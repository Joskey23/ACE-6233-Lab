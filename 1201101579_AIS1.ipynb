{
  "cells": [
    {
      "cell_type": "markdown",
      "metadata": {
        "id": "view-in-github",
        "colab_type": "text"
      },
      "source": [
        "<a href=\"https://colab.research.google.com/github/Joskey23/ACE-6233-Lab/blob/main/1201101579_AIS1.ipynb\" target=\"_parent\"><img src=\"https://colab.research.google.com/assets/colab-badge.svg\" alt=\"Open In Colab\"/></a>"
      ]
    },
    {
      "cell_type": "markdown",
      "id": "42a26803",
      "metadata": {
        "id": "42a26803"
      },
      "source": [
        "## Regression model that uses height to predict weight"
      ]
    },
    {
      "cell_type": "markdown",
      "source": [
        "Load modules and packages"
      ],
      "metadata": {
        "id": "rfrMDZrxOjRX"
      },
      "id": "rfrMDZrxOjRX"
    },
    {
      "cell_type": "code",
      "execution_count": 14,
      "id": "e24a7fc4",
      "metadata": {
        "id": "e24a7fc4"
      },
      "outputs": [],
      "source": [
        "import pandas as pd\n",
        "import numpy as np\n",
        "from sklearn.model_selection import train_test_split, cross_val_score\n",
        "from sklearn.linear_model import LinearRegression\n",
        "from sklearn.metrics import mean_squared_error, r2_score\n",
        "import matplotlib.pyplot as plt"
      ]
    },
    {
      "cell_type": "markdown",
      "source": [
        "Load dataset"
      ],
      "metadata": {
        "id": "7o3slXQKOoUG"
      },
      "id": "7o3slXQKOoUG"
    },
    {
      "cell_type": "code",
      "source": [
        "url = \"https://raw.githubusercontent.com/wooihaw/datasets/main/genders_heights_weights.csv\"\n",
        "df = pd.read_csv(url)"
      ],
      "metadata": {
        "id": "S0ocIfMbOmFe"
      },
      "id": "S0ocIfMbOmFe",
      "execution_count": 3,
      "outputs": []
    },
    {
      "cell_type": "markdown",
      "source": [
        "Print out the dimension of dataset, and the corresponding data types"
      ],
      "metadata": {
        "id": "veS5CpaY5IkR"
      },
      "id": "veS5CpaY5IkR"
    },
    {
      "cell_type": "code",
      "source": [
        "print(\"Dataset Overview:\")\n",
        "print(df.head())\n",
        "print(f\"\\nDataset shape: {df.shape}\")\n",
        "print(f\"\\nColumn names: {df.columns.tolist()}\")\n",
        "print(f\"\\nData types:\\n{df.dtypes}\")\n"
      ],
      "metadata": {
        "id": "BwDh0lRk4zmC",
        "colab": {
          "base_uri": "https://localhost:8080/"
        },
        "outputId": "e42d1c1e-2692-42d0-ab2b-6c9ccece2007"
      },
      "id": "BwDh0lRk4zmC",
      "execution_count": 4,
      "outputs": [
        {
          "output_type": "stream",
          "name": "stdout",
          "text": [
            "Dataset Overview:\n",
            "   Gender  Height  Weight\n",
            "0  Female   162.5    67.3\n",
            "1  Female   155.8    55.3\n",
            "2  Female   168.7    58.7\n",
            "3    Male   170.8    75.6\n",
            "4  Female   159.8    59.7\n",
            "\n",
            "Dataset shape: (10000, 3)\n",
            "\n",
            "Column names: ['Gender', 'Height', 'Weight']\n",
            "\n",
            "Data types:\n",
            "Gender     object\n",
            "Height    float64\n",
            "Weight    float64\n",
            "dtype: object\n"
          ]
        }
      ]
    },
    {
      "cell_type": "markdown",
      "source": [
        "Preview 10 lines of data randomly"
      ],
      "metadata": {
        "id": "KwNnaFpa5Oi6"
      },
      "id": "KwNnaFpa5Oi6"
    },
    {
      "cell_type": "code",
      "source": [
        "random_sample = df.sample(n=10, random_state=42)\n",
        "print(random_sample)"
      ],
      "metadata": {
        "id": "YTKCZFzS5PZa",
        "colab": {
          "base_uri": "https://localhost:8080/"
        },
        "outputId": "e1fc1fe2-215b-4e14-c3d5-3ebf1410d44b"
      },
      "id": "YTKCZFzS5PZa",
      "execution_count": 5,
      "outputs": [
        {
          "output_type": "stream",
          "name": "stdout",
          "text": [
            "      Gender  Height  Weight\n",
            "6252    Male   181.1    96.2\n",
            "4684    Male   173.9    81.0\n",
            "1731  Female   165.7    65.3\n",
            "4742    Male   181.9    94.4\n",
            "4521  Female   152.9    46.3\n",
            "6340  Female   153.2    49.0\n",
            "576   Female   159.5    57.5\n",
            "5202    Male   181.0    87.1\n",
            "6363    Male   170.9    84.0\n",
            "439     Male   176.2    82.6\n"
          ]
        }
      ]
    },
    {
      "cell_type": "markdown",
      "source": [
        "Descriptive statistics"
      ],
      "metadata": {
        "id": "Giclee9x5YIB"
      },
      "id": "Giclee9x5YIB"
    },
    {
      "cell_type": "code",
      "source": [
        "print(\"\\nDescriptive statistics:\")\n",
        "print(df.describe())\n"
      ],
      "metadata": {
        "id": "2tEvWVb65YfT",
        "colab": {
          "base_uri": "https://localhost:8080/"
        },
        "outputId": "56593c64-2599-4deb-a225-946243ce5c18"
      },
      "id": "2tEvWVb65YfT",
      "execution_count": 6,
      "outputs": [
        {
          "output_type": "stream",
          "name": "stdout",
          "text": [
            "\n",
            "Descriptive statistics:\n",
            "             Height        Weight\n",
            "count  10000.000000  10000.000000\n",
            "mean     168.573940     73.228260\n",
            "std        9.772842     14.563851\n",
            "min      137.800000     29.300000\n",
            "25%      161.300000     61.600000\n",
            "50%      168.400000     73.100000\n",
            "75%      175.700000     84.900000\n",
            "max      200.700000    122.500000\n"
          ]
        }
      ]
    },
    {
      "cell_type": "markdown",
      "source": [
        "Split dataset into training and testing sets"
      ],
      "metadata": {
        "id": "aP3tR9uL5uJR"
      },
      "id": "aP3tR9uL5uJR"
    },
    {
      "cell_type": "markdown",
      "source": [
        "#Linear Regression without gender"
      ],
      "metadata": {
        "id": "mcdelenui_ko"
      },
      "id": "mcdelenui_ko"
    },
    {
      "cell_type": "markdown",
      "source": [
        "Use height to predict weight without considering gender"
      ],
      "metadata": {
        "id": "40R8A7IENcdL"
      },
      "id": "40R8A7IENcdL"
    },
    {
      "cell_type": "code",
      "source": [
        "X1 = df[['Height']]\n",
        "y = df['Weight']\n"
      ],
      "metadata": {
        "id": "rISpcwaH5umO"
      },
      "id": "rISpcwaH5umO",
      "execution_count": 8,
      "outputs": []
    },
    {
      "cell_type": "markdown",
      "source": [
        "Split data into train and test set"
      ],
      "metadata": {
        "id": "w1yL4UtXlFY-"
      },
      "id": "w1yL4UtXlFY-"
    },
    {
      "cell_type": "code",
      "source": [
        "X1_train, X1_test, y_train, y_test = train_test_split(X1, y, test_size=0.2, random_state=42)"
      ],
      "metadata": {
        "id": "SYyR9HbqNpvs"
      },
      "id": "SYyR9HbqNpvs",
      "execution_count": 9,
      "outputs": []
    },
    {
      "cell_type": "code",
      "source": [
        "print(f\"Training set size: {X1_train.shape[0]} samples\")\n",
        "print(f\"Testing set size: {X1_test.shape[0]} samples\")"
      ],
      "metadata": {
        "id": "OziBw5SSNWEc",
        "colab": {
          "base_uri": "https://localhost:8080/"
        },
        "outputId": "29932e3b-67ad-4872-b09b-76f98865916e"
      },
      "id": "OziBw5SSNWEc",
      "execution_count": 10,
      "outputs": [
        {
          "output_type": "stream",
          "name": "stdout",
          "text": [
            "Training set size: 8000 samples\n",
            "Testing set size: 2000 samples\n"
          ]
        }
      ]
    },
    {
      "cell_type": "markdown",
      "source": [
        "Linear Regression"
      ],
      "metadata": {
        "id": "wV8sUIUE6d0c"
      },
      "id": "wV8sUIUE6d0c"
    },
    {
      "cell_type": "code",
      "execution_count": 11,
      "id": "23d1fad8",
      "metadata": {
        "id": "23d1fad8"
      },
      "outputs": [],
      "source": [
        "# Initialize the linear regression model\n",
        "model1 = LinearRegression()"
      ]
    },
    {
      "cell_type": "markdown",
      "source": [
        "Training"
      ],
      "metadata": {
        "id": "IL1z6Rp_6onG"
      },
      "id": "IL1z6Rp_6onG"
    },
    {
      "cell_type": "code",
      "source": [
        "# Fit the model to the training data\n",
        "model1.fit(X1_train, y_train)"
      ],
      "metadata": {
        "id": "KrFl189a6rtq",
        "colab": {
          "base_uri": "https://localhost:8080/",
          "height": 57
        },
        "outputId": "2620d3f4-8452-4082-9b71-43ba9493c3ed"
      },
      "id": "KrFl189a6rtq",
      "execution_count": 12,
      "outputs": [
        {
          "output_type": "execute_result",
          "data": {
            "text/plain": [
              "LinearRegression()"
            ],
            "text/html": [
              "<style>#sk-container-id-1 {\n",
              "  /* Definition of color scheme common for light and dark mode */\n",
              "  --sklearn-color-text: #000;\n",
              "  --sklearn-color-text-muted: #666;\n",
              "  --sklearn-color-line: gray;\n",
              "  /* Definition of color scheme for unfitted estimators */\n",
              "  --sklearn-color-unfitted-level-0: #fff5e6;\n",
              "  --sklearn-color-unfitted-level-1: #f6e4d2;\n",
              "  --sklearn-color-unfitted-level-2: #ffe0b3;\n",
              "  --sklearn-color-unfitted-level-3: chocolate;\n",
              "  /* Definition of color scheme for fitted estimators */\n",
              "  --sklearn-color-fitted-level-0: #f0f8ff;\n",
              "  --sklearn-color-fitted-level-1: #d4ebff;\n",
              "  --sklearn-color-fitted-level-2: #b3dbfd;\n",
              "  --sklearn-color-fitted-level-3: cornflowerblue;\n",
              "\n",
              "  /* Specific color for light theme */\n",
              "  --sklearn-color-text-on-default-background: var(--sg-text-color, var(--theme-code-foreground, var(--jp-content-font-color1, black)));\n",
              "  --sklearn-color-background: var(--sg-background-color, var(--theme-background, var(--jp-layout-color0, white)));\n",
              "  --sklearn-color-border-box: var(--sg-text-color, var(--theme-code-foreground, var(--jp-content-font-color1, black)));\n",
              "  --sklearn-color-icon: #696969;\n",
              "\n",
              "  @media (prefers-color-scheme: dark) {\n",
              "    /* Redefinition of color scheme for dark theme */\n",
              "    --sklearn-color-text-on-default-background: var(--sg-text-color, var(--theme-code-foreground, var(--jp-content-font-color1, white)));\n",
              "    --sklearn-color-background: var(--sg-background-color, var(--theme-background, var(--jp-layout-color0, #111)));\n",
              "    --sklearn-color-border-box: var(--sg-text-color, var(--theme-code-foreground, var(--jp-content-font-color1, white)));\n",
              "    --sklearn-color-icon: #878787;\n",
              "  }\n",
              "}\n",
              "\n",
              "#sk-container-id-1 {\n",
              "  color: var(--sklearn-color-text);\n",
              "}\n",
              "\n",
              "#sk-container-id-1 pre {\n",
              "  padding: 0;\n",
              "}\n",
              "\n",
              "#sk-container-id-1 input.sk-hidden--visually {\n",
              "  border: 0;\n",
              "  clip: rect(1px 1px 1px 1px);\n",
              "  clip: rect(1px, 1px, 1px, 1px);\n",
              "  height: 1px;\n",
              "  margin: -1px;\n",
              "  overflow: hidden;\n",
              "  padding: 0;\n",
              "  position: absolute;\n",
              "  width: 1px;\n",
              "}\n",
              "\n",
              "#sk-container-id-1 div.sk-dashed-wrapped {\n",
              "  border: 1px dashed var(--sklearn-color-line);\n",
              "  margin: 0 0.4em 0.5em 0.4em;\n",
              "  box-sizing: border-box;\n",
              "  padding-bottom: 0.4em;\n",
              "  background-color: var(--sklearn-color-background);\n",
              "}\n",
              "\n",
              "#sk-container-id-1 div.sk-container {\n",
              "  /* jupyter's `normalize.less` sets `[hidden] { display: none; }`\n",
              "     but bootstrap.min.css set `[hidden] { display: none !important; }`\n",
              "     so we also need the `!important` here to be able to override the\n",
              "     default hidden behavior on the sphinx rendered scikit-learn.org.\n",
              "     See: https://github.com/scikit-learn/scikit-learn/issues/21755 */\n",
              "  display: inline-block !important;\n",
              "  position: relative;\n",
              "}\n",
              "\n",
              "#sk-container-id-1 div.sk-text-repr-fallback {\n",
              "  display: none;\n",
              "}\n",
              "\n",
              "div.sk-parallel-item,\n",
              "div.sk-serial,\n",
              "div.sk-item {\n",
              "  /* draw centered vertical line to link estimators */\n",
              "  background-image: linear-gradient(var(--sklearn-color-text-on-default-background), var(--sklearn-color-text-on-default-background));\n",
              "  background-size: 2px 100%;\n",
              "  background-repeat: no-repeat;\n",
              "  background-position: center center;\n",
              "}\n",
              "\n",
              "/* Parallel-specific style estimator block */\n",
              "\n",
              "#sk-container-id-1 div.sk-parallel-item::after {\n",
              "  content: \"\";\n",
              "  width: 100%;\n",
              "  border-bottom: 2px solid var(--sklearn-color-text-on-default-background);\n",
              "  flex-grow: 1;\n",
              "}\n",
              "\n",
              "#sk-container-id-1 div.sk-parallel {\n",
              "  display: flex;\n",
              "  align-items: stretch;\n",
              "  justify-content: center;\n",
              "  background-color: var(--sklearn-color-background);\n",
              "  position: relative;\n",
              "}\n",
              "\n",
              "#sk-container-id-1 div.sk-parallel-item {\n",
              "  display: flex;\n",
              "  flex-direction: column;\n",
              "}\n",
              "\n",
              "#sk-container-id-1 div.sk-parallel-item:first-child::after {\n",
              "  align-self: flex-end;\n",
              "  width: 50%;\n",
              "}\n",
              "\n",
              "#sk-container-id-1 div.sk-parallel-item:last-child::after {\n",
              "  align-self: flex-start;\n",
              "  width: 50%;\n",
              "}\n",
              "\n",
              "#sk-container-id-1 div.sk-parallel-item:only-child::after {\n",
              "  width: 0;\n",
              "}\n",
              "\n",
              "/* Serial-specific style estimator block */\n",
              "\n",
              "#sk-container-id-1 div.sk-serial {\n",
              "  display: flex;\n",
              "  flex-direction: column;\n",
              "  align-items: center;\n",
              "  background-color: var(--sklearn-color-background);\n",
              "  padding-right: 1em;\n",
              "  padding-left: 1em;\n",
              "}\n",
              "\n",
              "\n",
              "/* Toggleable style: style used for estimator/Pipeline/ColumnTransformer box that is\n",
              "clickable and can be expanded/collapsed.\n",
              "- Pipeline and ColumnTransformer use this feature and define the default style\n",
              "- Estimators will overwrite some part of the style using the `sk-estimator` class\n",
              "*/\n",
              "\n",
              "/* Pipeline and ColumnTransformer style (default) */\n",
              "\n",
              "#sk-container-id-1 div.sk-toggleable {\n",
              "  /* Default theme specific background. It is overwritten whether we have a\n",
              "  specific estimator or a Pipeline/ColumnTransformer */\n",
              "  background-color: var(--sklearn-color-background);\n",
              "}\n",
              "\n",
              "/* Toggleable label */\n",
              "#sk-container-id-1 label.sk-toggleable__label {\n",
              "  cursor: pointer;\n",
              "  display: flex;\n",
              "  width: 100%;\n",
              "  margin-bottom: 0;\n",
              "  padding: 0.5em;\n",
              "  box-sizing: border-box;\n",
              "  text-align: center;\n",
              "  align-items: start;\n",
              "  justify-content: space-between;\n",
              "  gap: 0.5em;\n",
              "}\n",
              "\n",
              "#sk-container-id-1 label.sk-toggleable__label .caption {\n",
              "  font-size: 0.6rem;\n",
              "  font-weight: lighter;\n",
              "  color: var(--sklearn-color-text-muted);\n",
              "}\n",
              "\n",
              "#sk-container-id-1 label.sk-toggleable__label-arrow:before {\n",
              "  /* Arrow on the left of the label */\n",
              "  content: \"▸\";\n",
              "  float: left;\n",
              "  margin-right: 0.25em;\n",
              "  color: var(--sklearn-color-icon);\n",
              "}\n",
              "\n",
              "#sk-container-id-1 label.sk-toggleable__label-arrow:hover:before {\n",
              "  color: var(--sklearn-color-text);\n",
              "}\n",
              "\n",
              "/* Toggleable content - dropdown */\n",
              "\n",
              "#sk-container-id-1 div.sk-toggleable__content {\n",
              "  max-height: 0;\n",
              "  max-width: 0;\n",
              "  overflow: hidden;\n",
              "  text-align: left;\n",
              "  /* unfitted */\n",
              "  background-color: var(--sklearn-color-unfitted-level-0);\n",
              "}\n",
              "\n",
              "#sk-container-id-1 div.sk-toggleable__content.fitted {\n",
              "  /* fitted */\n",
              "  background-color: var(--sklearn-color-fitted-level-0);\n",
              "}\n",
              "\n",
              "#sk-container-id-1 div.sk-toggleable__content pre {\n",
              "  margin: 0.2em;\n",
              "  border-radius: 0.25em;\n",
              "  color: var(--sklearn-color-text);\n",
              "  /* unfitted */\n",
              "  background-color: var(--sklearn-color-unfitted-level-0);\n",
              "}\n",
              "\n",
              "#sk-container-id-1 div.sk-toggleable__content.fitted pre {\n",
              "  /* unfitted */\n",
              "  background-color: var(--sklearn-color-fitted-level-0);\n",
              "}\n",
              "\n",
              "#sk-container-id-1 input.sk-toggleable__control:checked~div.sk-toggleable__content {\n",
              "  /* Expand drop-down */\n",
              "  max-height: 200px;\n",
              "  max-width: 100%;\n",
              "  overflow: auto;\n",
              "}\n",
              "\n",
              "#sk-container-id-1 input.sk-toggleable__control:checked~label.sk-toggleable__label-arrow:before {\n",
              "  content: \"▾\";\n",
              "}\n",
              "\n",
              "/* Pipeline/ColumnTransformer-specific style */\n",
              "\n",
              "#sk-container-id-1 div.sk-label input.sk-toggleable__control:checked~label.sk-toggleable__label {\n",
              "  color: var(--sklearn-color-text);\n",
              "  background-color: var(--sklearn-color-unfitted-level-2);\n",
              "}\n",
              "\n",
              "#sk-container-id-1 div.sk-label.fitted input.sk-toggleable__control:checked~label.sk-toggleable__label {\n",
              "  background-color: var(--sklearn-color-fitted-level-2);\n",
              "}\n",
              "\n",
              "/* Estimator-specific style */\n",
              "\n",
              "/* Colorize estimator box */\n",
              "#sk-container-id-1 div.sk-estimator input.sk-toggleable__control:checked~label.sk-toggleable__label {\n",
              "  /* unfitted */\n",
              "  background-color: var(--sklearn-color-unfitted-level-2);\n",
              "}\n",
              "\n",
              "#sk-container-id-1 div.sk-estimator.fitted input.sk-toggleable__control:checked~label.sk-toggleable__label {\n",
              "  /* fitted */\n",
              "  background-color: var(--sklearn-color-fitted-level-2);\n",
              "}\n",
              "\n",
              "#sk-container-id-1 div.sk-label label.sk-toggleable__label,\n",
              "#sk-container-id-1 div.sk-label label {\n",
              "  /* The background is the default theme color */\n",
              "  color: var(--sklearn-color-text-on-default-background);\n",
              "}\n",
              "\n",
              "/* On hover, darken the color of the background */\n",
              "#sk-container-id-1 div.sk-label:hover label.sk-toggleable__label {\n",
              "  color: var(--sklearn-color-text);\n",
              "  background-color: var(--sklearn-color-unfitted-level-2);\n",
              "}\n",
              "\n",
              "/* Label box, darken color on hover, fitted */\n",
              "#sk-container-id-1 div.sk-label.fitted:hover label.sk-toggleable__label.fitted {\n",
              "  color: var(--sklearn-color-text);\n",
              "  background-color: var(--sklearn-color-fitted-level-2);\n",
              "}\n",
              "\n",
              "/* Estimator label */\n",
              "\n",
              "#sk-container-id-1 div.sk-label label {\n",
              "  font-family: monospace;\n",
              "  font-weight: bold;\n",
              "  display: inline-block;\n",
              "  line-height: 1.2em;\n",
              "}\n",
              "\n",
              "#sk-container-id-1 div.sk-label-container {\n",
              "  text-align: center;\n",
              "}\n",
              "\n",
              "/* Estimator-specific */\n",
              "#sk-container-id-1 div.sk-estimator {\n",
              "  font-family: monospace;\n",
              "  border: 1px dotted var(--sklearn-color-border-box);\n",
              "  border-radius: 0.25em;\n",
              "  box-sizing: border-box;\n",
              "  margin-bottom: 0.5em;\n",
              "  /* unfitted */\n",
              "  background-color: var(--sklearn-color-unfitted-level-0);\n",
              "}\n",
              "\n",
              "#sk-container-id-1 div.sk-estimator.fitted {\n",
              "  /* fitted */\n",
              "  background-color: var(--sklearn-color-fitted-level-0);\n",
              "}\n",
              "\n",
              "/* on hover */\n",
              "#sk-container-id-1 div.sk-estimator:hover {\n",
              "  /* unfitted */\n",
              "  background-color: var(--sklearn-color-unfitted-level-2);\n",
              "}\n",
              "\n",
              "#sk-container-id-1 div.sk-estimator.fitted:hover {\n",
              "  /* fitted */\n",
              "  background-color: var(--sklearn-color-fitted-level-2);\n",
              "}\n",
              "\n",
              "/* Specification for estimator info (e.g. \"i\" and \"?\") */\n",
              "\n",
              "/* Common style for \"i\" and \"?\" */\n",
              "\n",
              ".sk-estimator-doc-link,\n",
              "a:link.sk-estimator-doc-link,\n",
              "a:visited.sk-estimator-doc-link {\n",
              "  float: right;\n",
              "  font-size: smaller;\n",
              "  line-height: 1em;\n",
              "  font-family: monospace;\n",
              "  background-color: var(--sklearn-color-background);\n",
              "  border-radius: 1em;\n",
              "  height: 1em;\n",
              "  width: 1em;\n",
              "  text-decoration: none !important;\n",
              "  margin-left: 0.5em;\n",
              "  text-align: center;\n",
              "  /* unfitted */\n",
              "  border: var(--sklearn-color-unfitted-level-1) 1pt solid;\n",
              "  color: var(--sklearn-color-unfitted-level-1);\n",
              "}\n",
              "\n",
              ".sk-estimator-doc-link.fitted,\n",
              "a:link.sk-estimator-doc-link.fitted,\n",
              "a:visited.sk-estimator-doc-link.fitted {\n",
              "  /* fitted */\n",
              "  border: var(--sklearn-color-fitted-level-1) 1pt solid;\n",
              "  color: var(--sklearn-color-fitted-level-1);\n",
              "}\n",
              "\n",
              "/* On hover */\n",
              "div.sk-estimator:hover .sk-estimator-doc-link:hover,\n",
              ".sk-estimator-doc-link:hover,\n",
              "div.sk-label-container:hover .sk-estimator-doc-link:hover,\n",
              ".sk-estimator-doc-link:hover {\n",
              "  /* unfitted */\n",
              "  background-color: var(--sklearn-color-unfitted-level-3);\n",
              "  color: var(--sklearn-color-background);\n",
              "  text-decoration: none;\n",
              "}\n",
              "\n",
              "div.sk-estimator.fitted:hover .sk-estimator-doc-link.fitted:hover,\n",
              ".sk-estimator-doc-link.fitted:hover,\n",
              "div.sk-label-container:hover .sk-estimator-doc-link.fitted:hover,\n",
              ".sk-estimator-doc-link.fitted:hover {\n",
              "  /* fitted */\n",
              "  background-color: var(--sklearn-color-fitted-level-3);\n",
              "  color: var(--sklearn-color-background);\n",
              "  text-decoration: none;\n",
              "}\n",
              "\n",
              "/* Span, style for the box shown on hovering the info icon */\n",
              ".sk-estimator-doc-link span {\n",
              "  display: none;\n",
              "  z-index: 9999;\n",
              "  position: relative;\n",
              "  font-weight: normal;\n",
              "  right: .2ex;\n",
              "  padding: .5ex;\n",
              "  margin: .5ex;\n",
              "  width: min-content;\n",
              "  min-width: 20ex;\n",
              "  max-width: 50ex;\n",
              "  color: var(--sklearn-color-text);\n",
              "  box-shadow: 2pt 2pt 4pt #999;\n",
              "  /* unfitted */\n",
              "  background: var(--sklearn-color-unfitted-level-0);\n",
              "  border: .5pt solid var(--sklearn-color-unfitted-level-3);\n",
              "}\n",
              "\n",
              ".sk-estimator-doc-link.fitted span {\n",
              "  /* fitted */\n",
              "  background: var(--sklearn-color-fitted-level-0);\n",
              "  border: var(--sklearn-color-fitted-level-3);\n",
              "}\n",
              "\n",
              ".sk-estimator-doc-link:hover span {\n",
              "  display: block;\n",
              "}\n",
              "\n",
              "/* \"?\"-specific style due to the `<a>` HTML tag */\n",
              "\n",
              "#sk-container-id-1 a.estimator_doc_link {\n",
              "  float: right;\n",
              "  font-size: 1rem;\n",
              "  line-height: 1em;\n",
              "  font-family: monospace;\n",
              "  background-color: var(--sklearn-color-background);\n",
              "  border-radius: 1rem;\n",
              "  height: 1rem;\n",
              "  width: 1rem;\n",
              "  text-decoration: none;\n",
              "  /* unfitted */\n",
              "  color: var(--sklearn-color-unfitted-level-1);\n",
              "  border: var(--sklearn-color-unfitted-level-1) 1pt solid;\n",
              "}\n",
              "\n",
              "#sk-container-id-1 a.estimator_doc_link.fitted {\n",
              "  /* fitted */\n",
              "  border: var(--sklearn-color-fitted-level-1) 1pt solid;\n",
              "  color: var(--sklearn-color-fitted-level-1);\n",
              "}\n",
              "\n",
              "/* On hover */\n",
              "#sk-container-id-1 a.estimator_doc_link:hover {\n",
              "  /* unfitted */\n",
              "  background-color: var(--sklearn-color-unfitted-level-3);\n",
              "  color: var(--sklearn-color-background);\n",
              "  text-decoration: none;\n",
              "}\n",
              "\n",
              "#sk-container-id-1 a.estimator_doc_link.fitted:hover {\n",
              "  /* fitted */\n",
              "  background-color: var(--sklearn-color-fitted-level-3);\n",
              "}\n",
              "</style><div id=\"sk-container-id-1\" class=\"sk-top-container\"><div class=\"sk-text-repr-fallback\"><pre>LinearRegression()</pre><b>In a Jupyter environment, please rerun this cell to show the HTML representation or trust the notebook. <br />On GitHub, the HTML representation is unable to render, please try loading this page with nbviewer.org.</b></div><div class=\"sk-container\" hidden><div class=\"sk-item\"><div class=\"sk-estimator fitted sk-toggleable\"><input class=\"sk-toggleable__control sk-hidden--visually\" id=\"sk-estimator-id-1\" type=\"checkbox\" checked><label for=\"sk-estimator-id-1\" class=\"sk-toggleable__label fitted sk-toggleable__label-arrow\"><div><div>LinearRegression</div></div><div><a class=\"sk-estimator-doc-link fitted\" rel=\"noreferrer\" target=\"_blank\" href=\"https://scikit-learn.org/1.6/modules/generated/sklearn.linear_model.LinearRegression.html\">?<span>Documentation for LinearRegression</span></a><span class=\"sk-estimator-doc-link fitted\">i<span>Fitted</span></span></div></label><div class=\"sk-toggleable__content fitted\"><pre>LinearRegression()</pre></div> </div></div></div></div>"
            ]
          },
          "metadata": {},
          "execution_count": 12
        }
      ]
    },
    {
      "cell_type": "markdown",
      "source": [
        "Evaluate with 5-cross-validation using validation set obtained from train set"
      ],
      "metadata": {
        "id": "vprMfBGu6xmh"
      },
      "id": "vprMfBGu6xmh"
    },
    {
      "cell_type": "code",
      "source": [
        "# Evaluate the model's performance based on evaluation metrics, e.g. R2 score, Mean Squared Error, etc.\n",
        "cv_scores_1 = cross_val_score(model1, X1_train, y_train, cv=5, scoring='r2')\n"
      ],
      "metadata": {
        "id": "s71qwS996yu2"
      },
      "id": "s71qwS996yu2",
      "execution_count": 15,
      "outputs": []
    },
    {
      "cell_type": "code",
      "source": [
        "print(f\"Cross-validation R² scores: {cv_scores_1}\")\n",
        "print(f\"Mean CV R² Score: {cv_scores_1.mean():.4f} (±{cv_scores_1.std():.4f})\")"
      ],
      "metadata": {
        "id": "dbAms9tpOMyD",
        "colab": {
          "base_uri": "https://localhost:8080/"
        },
        "outputId": "a65c9c37-a757-499a-b15f-03163c97d475"
      },
      "id": "dbAms9tpOMyD",
      "execution_count": 16,
      "outputs": [
        {
          "output_type": "stream",
          "name": "stdout",
          "text": [
            "Cross-validation R² scores: [0.86441303 0.84564411 0.85595277 0.84802563 0.85372429]\n",
            "Mean CV R² Score: 0.8536 (±0.0066)\n"
          ]
        }
      ]
    },
    {
      "cell_type": "markdown",
      "source": [
        "Evaluate with test set"
      ],
      "metadata": {
        "id": "HC8tBqUPqzp0"
      },
      "id": "HC8tBqUPqzp0"
    },
    {
      "cell_type": "code",
      "source": [
        "y_pred1 = model1.predict(X1_test)\n",
        "#calculate r2 values for test set\n",
        "r2_1 = r2_score(y_test, y_pred1)\n",
        "#calculate MSE for the test set\n",
        "mse_1 = mean_squared_error(y_test, y_pred1)"
      ],
      "metadata": {
        "id": "fzRx6zleq2Rr"
      },
      "id": "fzRx6zleq2Rr",
      "execution_count": 21,
      "outputs": []
    },
    {
      "cell_type": "markdown",
      "source": [
        "The performance metric of test set will always be the same since a simple spliting of data is used"
      ],
      "metadata": {
        "id": "_F2LpHktsFcq"
      },
      "id": "_F2LpHktsFcq"
    },
    {
      "cell_type": "code",
      "source": [
        "print(f\"Model 1 Performance (Height only):\")\n",
        "print(f\"CV R² Score: {cv_scores_1.mean():.4f}\")\n",
        "print(f\"Test R² Score: {r2_1:.4f}\")\n",
        "print(f\"Test MSE: {mse_1:.4f}\")\n",
        "print(f\"Test RMSE: {np.sqrt(mse_1):.4f}\")"
      ],
      "metadata": {
        "colab": {
          "base_uri": "https://localhost:8080/"
        },
        "id": "fF3Q8kg9q-T_",
        "outputId": "68ab92ad-272b-4984-cb10-2667edf86df9"
      },
      "id": "fF3Q8kg9q-T_",
      "execution_count": 33,
      "outputs": [
        {
          "output_type": "stream",
          "name": "stdout",
          "text": [
            "Model 1 Performance (Height only):\n",
            "CV R² Score: 0.8536\n",
            "Test R² Score: 0.8600\n",
            "Test MSE: 30.7064\n",
            "Test RMSE: 5.5413\n"
          ]
        }
      ]
    },
    {
      "cell_type": "markdown",
      "source": [
        "Now make use of the `gender` info"
      ],
      "metadata": {
        "id": "4WCMhWSxOcMT"
      },
      "id": "4WCMhWSxOcMT"
    },
    {
      "cell_type": "markdown",
      "source": [
        "Encode `Gender` using *one-hot encoding*"
      ],
      "metadata": {
        "id": "l2m5lcb_61-6"
      },
      "id": "l2m5lcb_61-6"
    },
    {
      "cell_type": "code",
      "execution_count": 23,
      "id": "a117b29f",
      "metadata": {
        "id": "a117b29f"
      },
      "outputs": [],
      "source": [
        "df_encoded = pd.get_dummies(df, columns=['Gender'], prefix='Gender')"
      ]
    },
    {
      "cell_type": "code",
      "source": [
        "print(\"Columns after one-hot encoding:\", list(df_encoded.columns))\n"
      ],
      "metadata": {
        "id": "OE3tpCu-OlML",
        "colab": {
          "base_uri": "https://localhost:8080/"
        },
        "outputId": "0627546c-18b0-426b-a335-bdfdc1a63c4d"
      },
      "id": "OE3tpCu-OlML",
      "execution_count": 24,
      "outputs": [
        {
          "output_type": "stream",
          "name": "stdout",
          "text": [
            "Columns after one-hot encoding: ['Height', 'Weight', 'Gender_Female', 'Gender_Male']\n"
          ]
        }
      ]
    },
    {
      "cell_type": "markdown",
      "source": [
        "This round, keep the gender info."
      ],
      "metadata": {
        "id": "vbZsh6R_7c4J"
      },
      "id": "vbZsh6R_7c4J"
    },
    {
      "cell_type": "code",
      "execution_count": 25,
      "id": "d4a4a498",
      "metadata": {
        "id": "d4a4a498"
      },
      "outputs": [],
      "source": [
        "# Prepare data with gender\n",
        "X2 = df_encoded[['Height', 'Gender_Female', 'Gender_Male']]\n",
        "y2 = df_encoded['Weight']"
      ]
    },
    {
      "cell_type": "markdown",
      "source": [
        "Split into training and testing datasets"
      ],
      "metadata": {
        "id": "72LUd-m-OuXL"
      },
      "id": "72LUd-m-OuXL"
    },
    {
      "cell_type": "code",
      "source": [
        "X2_train, X2_test, y2_train, y2_test = train_test_split(X2, y2, test_size=0.2, random_state=42)"
      ],
      "metadata": {
        "id": "SRc2Iy-8O7Ur"
      },
      "id": "SRc2Iy-8O7Ur",
      "execution_count": 26,
      "outputs": []
    },
    {
      "cell_type": "markdown",
      "source": [
        "An insight on the current prepared data"
      ],
      "metadata": {
        "id": "LYK8iQ-8tC-H"
      },
      "id": "LYK8iQ-8tC-H"
    },
    {
      "cell_type": "code",
      "source": [
        "print(f\"Features with gender: {list(X2.columns)}\")\n",
        "print(f\"Training set size: {X2_train.shape[0]} samples\")\n",
        "print(f\"Testing set size: {X2_test.shape[0]} samples\")"
      ],
      "metadata": {
        "colab": {
          "base_uri": "https://localhost:8080/"
        },
        "id": "7UsvyBShtCOC",
        "outputId": "18192af1-28b0-488c-df3d-a129dbca4b5f"
      },
      "id": "7UsvyBShtCOC",
      "execution_count": 32,
      "outputs": [
        {
          "output_type": "stream",
          "name": "stdout",
          "text": [
            "Features with gender: ['Height', 'Gender_Female', 'Gender_Male']\n",
            "Training set size: 8000 samples\n",
            "Testing set size: 2000 samples\n"
          ]
        }
      ]
    },
    {
      "cell_type": "markdown",
      "source": [
        "Training and validating again with 5-cross validation"
      ],
      "metadata": {
        "id": "G3Y7zgtU7n-r"
      },
      "id": "G3Y7zgtU7n-r"
    },
    {
      "cell_type": "code",
      "execution_count": 28,
      "id": "c965e89e",
      "metadata": {
        "id": "c965e89e",
        "colab": {
          "base_uri": "https://localhost:8080/"
        },
        "outputId": "d01df47b-55db-441f-b341-f9601408ab02"
      },
      "outputs": [
        {
          "output_type": "stream",
          "name": "stdout",
          "text": [
            "Cross-validation R² scores: [0.90971166 0.8946123  0.90550074 0.8944187  0.90534474]\n",
            "Mean CV R² Score: 0.9019 (±0.0062)\n"
          ]
        }
      ],
      "source": [
        "# Initialize a new linear regression model\n",
        "model2 = LinearRegression()\n",
        "\n",
        "# Fit the model to the training data\n",
        "model2.fit(X2_train, y2_train)\n",
        "\n",
        "# Evaluate the new model's performance\n",
        "cv_scores_2 = cross_val_score(model2, X2_train, y2_train, cv=5, scoring='r2')\n",
        "print(f\"Cross-validation R² scores: {cv_scores_2}\")\n",
        "print(f\"Mean CV R² Score: {cv_scores_2.mean():.4f} (±{cv_scores_2.std():.4f})\")\n"
      ]
    },
    {
      "cell_type": "markdown",
      "source": [
        "Evaluate with test set"
      ],
      "metadata": {
        "id": "fs_aC-KYvRgv"
      },
      "id": "fs_aC-KYvRgv"
    },
    {
      "cell_type": "code",
      "source": [
        "# Evaluate on test set\n",
        "y_pred2 = model2.predict(X2_test)\n",
        "r2_2 = r2_score(y2_test, y_pred2)\n",
        "mse_2 = mean_squared_error(y2_test, y_pred2)"
      ],
      "metadata": {
        "id": "sk-L9MnmvRHw"
      },
      "id": "sk-L9MnmvRHw",
      "execution_count": 29,
      "outputs": []
    },
    {
      "cell_type": "code",
      "source": [
        "print(f\"Model 2 Performance (Height + Gender):\")\n",
        "print(f\"CV R² Score: {cv_scores_2.mean():.4f}\")\n",
        "print(f\"Test R² Score: {r2_2:.4f}\")\n",
        "print(f\"Test MSE: {mse_2:.4f}\")\n",
        "print(f\"Test RMSE: {np.sqrt(mse_2):.4f}\")\n"
      ],
      "metadata": {
        "colab": {
          "base_uri": "https://localhost:8080/"
        },
        "id": "NH-jK5D8vXh-",
        "outputId": "b3b90d7a-e751-4418-cfdf-a4d2504dfdcc"
      },
      "id": "NH-jK5D8vXh-",
      "execution_count": 31,
      "outputs": [
        {
          "output_type": "stream",
          "name": "stdout",
          "text": [
            "Model 2 Performance (Height + Gender):\n",
            "CV R² Score: 0.9019\n",
            "Test R² Score: 0.9047\n",
            "Test MSE: 20.9034\n",
            "Test RMSE: 4.5720\n"
          ]
        }
      ]
    },
    {
      "cell_type": "markdown",
      "id": "af38804f",
      "metadata": {
        "id": "af38804f"
      },
      "source": [
        "The R2 score has improved because the prediction is now empowered by one additional useful feature, i.e. gender."
      ]
    },
    {
      "cell_type": "markdown",
      "source": [
        "Initialize visualization to plot Actual vs Predicted Graph (regression diagnostic graph) for both models"
      ],
      "metadata": {
        "id": "JDoT29k2A4EH"
      },
      "id": "JDoT29k2A4EH"
    },
    {
      "cell_type": "markdown",
      "source": [
        "Plot the regression diagnostic graph for model 1 (model trained without \"gender\" as the feature)"
      ],
      "metadata": {
        "id": "xlWWfcfiBMXv"
      },
      "id": "xlWWfcfiBMXv"
    },
    {
      "cell_type": "code",
      "source": [
        "# Create figure size of 1500*500\n",
        "print(\"CREATING VISUALIZATIONS\")\n",
        "plt.figure(figsize=(15, 5))\n",
        "# Makes a figure with 1 row, 3 columns, and selects the 1st position\n",
        "plt.subplot(1, 3, 1)\n",
        "# Input the values of actual and predicted weight to create blue plot with 50% transparecy\n",
        "plt.scatter(y_test, y_pred1, alpha=0.5, color='blue')\n",
        "plt.plot([y_test.min(), y_test.max()], [y_test.min(), y_test.max()], 'r--', lw=2)\n",
        "\n",
        "# Labels axis\n",
        "plt.xlabel('Actual Weight')\n",
        "plt.ylabel('Predicted Weight')\n",
        "# Labels title\n",
        "plt.title(f'Model 1: Height Only\\nR² = {r2_1:.4f}')\n",
        "# Add grid lines\n",
        "plt.grid(True, alpha=0.3)"
      ],
      "metadata": {
        "colab": {
          "base_uri": "https://localhost:8080/",
          "height": 525
        },
        "id": "rO5woWiHBW1N",
        "outputId": "2d1751b7-a622-44a3-b711-3f401ee871da"
      },
      "id": "rO5woWiHBW1N",
      "execution_count": 54,
      "outputs": [
        {
          "output_type": "stream",
          "name": "stdout",
          "text": [
            "CREATING VISUALIZATIONS\n"
          ]
        },
        {
          "output_type": "display_data",
          "data": {
            "text/plain": [
              "<Figure size 1500x500 with 1 Axes>"
            ],
            "image/png": "[encoded data removed]"
          },
          "metadata": {}
        }
      ]
    },
    {
      "cell_type": "markdown",
      "source": [
        "Plot the regression diagnostic graph for model 2 (model trained with \"gender\" as the feature)"
      ],
      "metadata": {
        "id": "0oRXBprSEA1e"
      },
      "id": "0oRXBprSEA1e"
    },
    {
      "cell_type": "code",
      "source": [
        "# Create figure size of 1500*500\n",
        "print(\"CREATING VISUALIZATIONS\")\n",
        "plt.figure(figsize=(15, 5))\n",
        "# Makes a figure with 2 rows, 3 columns, and selects the 1st position\n",
        "plt.subplot(1, 3, 2)\n",
        "# Input the values of actual and predicted weight to create blue plot with 50% transparecy\n",
        "plt.scatter(y2_test, y_pred2, alpha=0.6, color='green')\n",
        "plt.plot([y2_test.min(), y2_test.max()], [y2_test.min(), y2_test.max()], 'r--', lw=2)\n",
        "\n",
        "# Labels axis\n",
        "plt.xlabel('Actual Weight')\n",
        "plt.ylabel('Predicted Weight')\n",
        "# Labels title\n",
        "plt.title(f'Model 2: Height + Gender\\nR² = {r2_2:.4f}')\n",
        "# Add grid lines\n",
        "plt.grid(True, alpha=0.3)"
      ],
      "metadata": {
        "colab": {
          "base_uri": "https://localhost:8080/",
          "height": 525
        },
        "id": "54iSrwBjEGbE",
        "outputId": "dd89a6c3-4bc2-4227-dfc6-a1c27426bd66"
      },
      "id": "54iSrwBjEGbE",
      "execution_count": 55,
      "outputs": [
        {
          "output_type": "stream",
          "name": "stdout",
          "text": [
            "CREATING VISUALIZATIONS\n"
          ]
        },
        {
          "output_type": "display_data",
          "data": {
            "text/plain": [
              "<Figure size 1500x500 with 1 Axes>"
            ],
            "image/png": "[encoded data removed]"
          },
          "metadata": {}
        }
      ]
    },
    {
      "cell_type": "markdown",
      "metadata": {
        "id": "779ec99d"
      },
      "source": [
        "## Classification of Fish Species"
      ],
      "id": "779ec99d"
    },
    {
      "cell_type": "markdown",
      "source": [
        "Load modules and packages"
      ],
      "metadata": {
        "id": "3vA_0mKkO3g3"
      },
      "id": "3vA_0mKkO3g3"
    },
    {
      "cell_type": "code",
      "execution_count": 56,
      "metadata": {
        "id": "dbeccaed"
      },
      "outputs": [],
      "source": [
        "import pandas as pd\n",
        "import numpy as np\n",
        "from sklearn.model_selection import train_test_split, GridSearchCV\n",
        "from sklearn.neighbors import KNeighborsClassifier\n",
        "from sklearn.tree import DecisionTreeClassifier\n",
        "from sklearn.metrics import accuracy_score, classification_report, confusion_matrix\n",
        "from sklearn.preprocessing import StandardScaler\n",
        "from sklearn.pipeline import Pipeline\n",
        "import matplotlib.pyplot as plt\n",
        "import seaborn as sns"
      ],
      "id": "dbeccaed"
    },
    {
      "cell_type": "markdown",
      "source": [
        "Load the dataset"
      ],
      "metadata": {
        "id": "McnX8QiC9nun"
      },
      "id": "McnX8QiC9nun"
    },
    {
      "cell_type": "code",
      "source": [
        "df = pd.read_csv('https://raw.githubusercontent.com/wooihaw/datasets/main/fish.csv')"
      ],
      "metadata": {
        "id": "LW3HDAvS9ijY"
      },
      "execution_count": 57,
      "outputs": [],
      "id": "LW3HDAvS9ijY"
    },
    {
      "cell_type": "markdown",
      "source": [
        "Check the first 5 samples"
      ],
      "metadata": {
        "id": "EiQS3gvFQFLE"
      },
      "id": "EiQS3gvFQFLE"
    },
    {
      "cell_type": "code",
      "source": [
        "print(f\"Dataset shape: {df.shape}\")\n",
        "print(\"\\nFirst 5 rows:\")\n",
        "print(df.head())"
      ],
      "metadata": {
        "id": "0wKrl8m3-AiB",
        "colab": {
          "base_uri": "https://localhost:8080/"
        },
        "outputId": "ecef76b2-49d9-4a60-b3ab-97690e037743"
      },
      "execution_count": 58,
      "outputs": [
        {
          "output_type": "stream",
          "name": "stdout",
          "text": [
            "Dataset shape: (159, 7)\n",
            "\n",
            "First 5 rows:\n",
            "  Species  Weight  Length1  Length2  Length3   Height   Width\n",
            "0   Bream   242.0     23.2     25.4     30.0  11.5200  4.0200\n",
            "1   Bream   290.0     24.0     26.3     31.2  12.4800  4.3056\n",
            "2   Bream   340.0     23.9     26.5     31.1  12.3778  4.6961\n",
            "3   Bream   363.0     26.3     29.0     33.5  12.7300  4.4555\n",
            "4   Bream   430.0     26.5     29.0     34.0  12.4440  5.1340\n"
          ]
        }
      ],
      "id": "0wKrl8m3-AiB"
    },
    {
      "cell_type": "markdown",
      "source": [
        "Sample 10 lines of data"
      ],
      "metadata": {
        "id": "yycUv7O4-FPX"
      },
      "id": "yycUv7O4-FPX"
    },
    {
      "cell_type": "code",
      "source": [
        "print(\"Random sample of 10 rows:\")\n",
        "print(df.sample(n=10, random_state=42))"
      ],
      "metadata": {
        "id": "5Bu-jylD-AWg",
        "colab": {
          "base_uri": "https://localhost:8080/"
        },
        "outputId": "70ff766f-bc0c-4bb9-bd1a-14453078c8c5"
      },
      "execution_count": 59,
      "outputs": [
        {
          "output_type": "stream",
          "name": "stdout",
          "text": [
            "Random sample of 10 rows:\n",
            "       Species  Weight  Length1  Length2  Length3   Height   Width\n",
            "78       Perch    78.0     16.8     18.7     19.4   5.1992  3.1234\n",
            "155      Smelt    13.4     11.7     12.4     13.5   2.4300  1.2690\n",
            "128       Pike   200.0     30.0     32.3     34.8   5.5680  3.3756\n",
            "55   Whitefish   270.0     23.6     26.0     28.7   8.3804  4.2476\n",
            "94       Perch   150.0     21.0     23.0     24.5   5.2185  3.6260\n",
            "29       Bream  1000.0     33.5     37.0     42.6  18.9570  6.6030\n",
            "147      Smelt     7.0     10.1     10.6     11.6   1.7284  1.1484\n",
            "51       Roach   180.0     23.6     25.2     27.9   7.0866  3.9060\n",
            "98       Perch   188.0     22.6     24.6     26.2   6.7334  4.1658\n",
            "141       Pike  1250.0     52.0     56.0     59.7  10.6863  6.9849\n"
          ]
        }
      ],
      "id": "5Bu-jylD-AWg"
    },
    {
      "cell_type": "markdown",
      "source": [
        "Describe statistics of the dataset"
      ],
      "metadata": {
        "id": "Um7nH8mA-Mvb"
      },
      "id": "Um7nH8mA-Mvb"
    },
    {
      "cell_type": "code",
      "execution_count": 72,
      "metadata": {
        "id": "765090b3",
        "colab": {
          "base_uri": "https://localhost:8080/"
        },
        "outputId": "7263ee05-cb16-41cc-8542-f46d9cf86730"
      },
      "outputs": [
        {
          "output_type": "stream",
          "name": "stdout",
          "text": [
            "\n",
            "Number of features: 6\n",
            "\n",
            "Class distribution:\n",
            "Species\n",
            "Perch        56\n",
            "Bream        35\n",
            "Roach        20\n",
            "Pike         17\n",
            "Smelt        14\n",
            "Parkki       11\n",
            "Whitefish     6\n",
            "Name: count, dtype: int64\n"
          ]
        }
      ],
      "source": [
        "print(f\"\\nNumber of features: {df.shape[1] - 1}\")  # Excluding target column\n",
        "\n",
        "print(\"\\nClass distribution:\")\n",
        "print(df['Species'].value_counts())"
      ],
      "id": "765090b3"
    },
    {
      "cell_type": "markdown",
      "source": [
        "What is the dimension of the dataset?"
      ],
      "metadata": {
        "id": "TP6IYGf994fV"
      },
      "id": "TP6IYGf994fV"
    },
    {
      "cell_type": "code",
      "source": [
        "print(f\"\\nDataset shape: {df.shape}\")"
      ],
      "metadata": {
        "id": "ej9pRyHe95S1",
        "colab": {
          "base_uri": "https://localhost:8080/"
        },
        "outputId": "fcc54c10-6527-482c-e03d-ea35a58f82c5"
      },
      "execution_count": 65,
      "outputs": [
        {
          "output_type": "stream",
          "name": "stdout",
          "text": [
            "\n",
            "Dataset shape: (159, 7)\n"
          ]
        }
      ],
      "id": "ej9pRyHe95S1"
    },
    {
      "cell_type": "markdown",
      "source": [
        "`Species` is the **Target**, other columns are the **Features**."
      ],
      "metadata": {
        "id": "sBDpLuBYWmw0"
      },
      "id": "sBDpLuBYWmw0"
    },
    {
      "cell_type": "code",
      "source": [
        "X = df.drop('Species', axis=1)\n",
        "y = df['Species']"
      ],
      "metadata": {
        "id": "tsVwQoxaWfwE"
      },
      "execution_count": 66,
      "outputs": [],
      "id": "tsVwQoxaWfwE"
    },
    {
      "cell_type": "markdown",
      "source": [
        "How many classes (Species) are there?"
      ],
      "metadata": {
        "id": "vyRRhpIdXUUO"
      },
      "id": "vyRRhpIdXUUO"
    },
    {
      "cell_type": "code",
      "source": [
        "print(f\"Number of classes: {df['Species'].nunique()}\")\n",
        "print(f\"Target classes: {df['Species'].unique()}\")"
      ],
      "metadata": {
        "id": "DzSYfSQaXX88",
        "colab": {
          "base_uri": "https://localhost:8080/"
        },
        "outputId": "17b11b53-6123-4616-dde0-0ed83df40653"
      },
      "execution_count": 73,
      "outputs": [
        {
          "output_type": "stream",
          "name": "stdout",
          "text": [
            "Number of classes: 7\n",
            "Target classes: ['Bream' 'Roach' 'Whitefish' 'Parkki' 'Perch' 'Pike' 'Smelt']\n"
          ]
        }
      ],
      "id": "DzSYfSQaXX88"
    },
    {
      "cell_type": "markdown",
      "source": [
        "Split the dataset into training and testing sets"
      ],
      "metadata": {
        "id": "11nANF3w-RYZ"
      },
      "id": "11nANF3w-RYZ"
    },
    {
      "cell_type": "code",
      "source": [
        "X_train, X_test, y_train, y_test = train_test_split(X, y, test_size=0.2, random_state=42, stratify=y)"
      ],
      "metadata": {
        "id": "LSGUHY_V-S4F"
      },
      "execution_count": 74,
      "outputs": [],
      "id": "LSGUHY_V-S4F"
    },
    {
      "cell_type": "code",
      "execution_count": 75,
      "metadata": {
        "id": "52270673",
        "colab": {
          "base_uri": "https://localhost:8080/"
        },
        "outputId": "ae1589cf-bb2f-4a7b-fd26-a2a69fcf3959"
      },
      "outputs": [
        {
          "output_type": "stream",
          "name": "stdout",
          "text": [
            "Training set size: 127 samples\n"
          ]
        }
      ],
      "source": [
        "print(f\"Training set size: {X_train.shape[0]} samples\")"
      ],
      "id": "52270673"
    },
    {
      "cell_type": "code",
      "source": [
        "print(f\"Testing set size: {X_test.shape[0]} samples\")"
      ],
      "metadata": {
        "id": "DBbH66vvZXlD",
        "colab": {
          "base_uri": "https://localhost:8080/"
        },
        "outputId": "04621709-e006-4439-b47e-896bf95ade1b"
      },
      "execution_count": 76,
      "outputs": [
        {
          "output_type": "stream",
          "name": "stdout",
          "text": [
            "Testing set size: 32 samples\n"
          ]
        }
      ],
      "id": "DBbH66vvZXlD"
    },
    {
      "cell_type": "markdown",
      "source": [
        "How many features are there in the dataset?"
      ],
      "metadata": {
        "id": "8vrBOdu_QsLk"
      },
      "id": "8vrBOdu_QsLk"
    },
    {
      "cell_type": "code",
      "execution_count": 77,
      "metadata": {
        "id": "a960a91c",
        "colab": {
          "base_uri": "https://localhost:8080/"
        },
        "outputId": "1afce1c3-6a43-4457-804f-3c74aa903aa7"
      },
      "outputs": [
        {
          "output_type": "stream",
          "name": "stdout",
          "text": [
            "Number of features: 6\n"
          ]
        }
      ],
      "source": [
        "print(f\"Number of features: {X_train.shape[1]}\")"
      ],
      "id": "a960a91c"
    },
    {
      "cell_type": "markdown",
      "source": [
        "Start from the k-Nearest Neighbors (kNN) model"
      ],
      "metadata": {
        "id": "cymXP2GmQ4GT"
      },
      "id": "cymXP2GmQ4GT"
    },
    {
      "cell_type": "markdown",
      "source": [
        "Train and evaluate a kNN model with k=1"
      ],
      "metadata": {
        "id": "Rd4b6xTs_JKT"
      },
      "id": "Rd4b6xTs_JKT"
    },
    {
      "cell_type": "code",
      "source": [
        "# Manual testing k from 2 to 10\n",
        "k_values = range(2, 11)\n",
        "knn_results = []"
      ],
      "metadata": {
        "id": "X6_KeQ2BRDRz"
      },
      "id": "X6_KeQ2BRDRz",
      "execution_count": 78,
      "outputs": []
    },
    {
      "cell_type": "code",
      "source": [
        "for k in k_values:\n",
        "    # Use pipeline with scaling for k-NN (preprocessing and model training)\n",
        "    knn_pipeline = Pipeline([\n",
        "        # Scale/normalize the features so all are on similar ranges\n",
        "        # StandardScaler() converts features to have mean=0 and standard deviation=\n",
        "        ('scaler', StandardScaler()),\n",
        "        # Create k-NN classifier with current k value\n",
        "        # KNeighborsClassifier finds k nearest neighbors to make predictions\n",
        "        ('classifier', KNeighborsClassifier(n_neighbors=k)) # Input n values with k(rnages from 2 to 10)\n",
        "    ])\n",
        "    # Train the entire pipeline (scaling + k-NN) on training data\n",
        "    # X_train = training features, y_train = training labels\n",
        "    knn_pipeline.fit(X_train, y_train)\n",
        "    # Make predictions on test data using the trained pipeline model\n",
        "    y_pred = knn_pipeline.predict(X_test)\n",
        "    # Calculate accuracy by comparing predictions to actual test labels\n",
        "    accuracy = accuracy_score(y_test, y_pred)\n",
        "    # Creates dictionary with k value and its corresponding accuracy\n",
        "    knn_results.append({'k': k, 'accuracy': accuracy})\n",
        "    print(f\"k={k}: Accuracy = {accuracy:.4f}\")"
      ],
      "metadata": {
        "id": "PtDYQ7IgRGoi",
        "colab": {
          "base_uri": "https://localhost:8080/"
        },
        "outputId": "dbf9591f-e951-43ed-a163-4124882dfd90"
      },
      "id": "PtDYQ7IgRGoi",
      "execution_count": 90,
      "outputs": [
        {
          "output_type": "stream",
          "name": "stdout",
          "text": [
            "k=2: Accuracy = 0.7500\n",
            "k=3: Accuracy = 0.8125\n",
            "k=4: Accuracy = 0.7812\n",
            "k=5: Accuracy = 0.8125\n",
            "k=6: Accuracy = 0.8438\n",
            "k=7: Accuracy = 0.8125\n",
            "k=8: Accuracy = 0.7500\n",
            "k=9: Accuracy = 0.7188\n",
            "k=10: Accuracy = 0.7500\n"
          ]
        }
      ]
    },
    {
      "cell_type": "markdown",
      "source": [
        "From the above testing, we found out that k=6 provides us with the highest accuracy (84.38%)"
      ],
      "metadata": {
        "id": "HTIJsju1Mfjv"
      },
      "id": "HTIJsju1Mfjv"
    },
    {
      "cell_type": "code",
      "source": [
        "print(f\"Grid search optimization:\")\n",
        "knn_param_grid = {\n",
        "    'classifier__n_neighbors': list(range(2, 11)),\n",
        "    'classifier__weights': ['uniform', 'distance']\n",
        "}\n",
        "\n",
        "knn_grid = GridSearchCV(\n",
        "    Pipeline([('scaler', StandardScaler()), ('classifier', KNeighborsClassifier())]),\n",
        "    knn_param_grid, cv=5, scoring='accuracy'\n",
        ")\n",
        "\n",
        "knn_grid.fit(X_train, y_train)\n",
        "print(f\"Best k-NN parameters: {knn_grid.best_params_}\")\n",
        "print(f\"Best k-NN CV score: {knn_grid.best_score_:.4f}\")\n"
      ],
      "metadata": {
        "id": "jKa45jOL_Jdx",
        "colab": {
          "base_uri": "https://localhost:8080/"
        },
        "outputId": "087a0ca8-4aea-4892-b6cd-91562189d9a3"
      },
      "execution_count": 82,
      "outputs": [
        {
          "output_type": "stream",
          "name": "stdout",
          "text": [
            "\n",
            "2. Grid search optimization:\n",
            "Best k-NN parameters: {'classifier__n_neighbors': 2, 'classifier__weights': 'distance'}\n",
            "Best k-NN CV score: 0.8271\n"
          ]
        }
      ],
      "id": "jKa45jOL_Jdx"
    },
    {
      "cell_type": "markdown",
      "source": [
        "Now try with a Decision Tree model for classification"
      ],
      "metadata": {
        "id": "YGjZKtYQRMVi"
      },
      "id": "YGjZKtYQRMVi"
    },
    {
      "cell_type": "markdown",
      "source": [
        "Train and evaluate a Decision Tree Classifier (DTC) with max_depth=1"
      ],
      "metadata": {
        "id": "SFCFB5pN_Qpy"
      },
      "id": "SFCFB5pN_Qpy"
    },
    {
      "cell_type": "code",
      "source": [
        "# model = DTC()"
      ],
      "metadata": {
        "id": "E71YnLLgRgnr"
      },
      "id": "E71YnLLgRgnr",
      "execution_count": null,
      "outputs": []
    },
    {
      "cell_type": "code",
      "source": [
        "# model.fit()"
      ],
      "metadata": {
        "id": "nKbQOMzpRkxs"
      },
      "id": "nKbQOMzpRkxs",
      "execution_count": null,
      "outputs": []
    },
    {
      "cell_type": "code",
      "source": [
        "# print(f\"DTC accuracy: ? }\")"
      ],
      "metadata": {
        "id": "WQHpvj5Y_RNI"
      },
      "execution_count": null,
      "outputs": [],
      "id": "WQHpvj5Y_RNI"
    },
    {
      "cell_type": "markdown",
      "source": [
        "Try with different k values (by using a FOR loop)"
      ],
      "metadata": {
        "id": "86StfRZmYIHd"
      },
      "id": "86StfRZmYIHd"
    },
    {
      "cell_type": "code",
      "source": [
        "k_values = range(2, 11)\n",
        "knn_scores = []"
      ],
      "metadata": {
        "id": "hJRJzlUER5pD"
      },
      "id": "hJRJzlUER5pD",
      "execution_count": null,
      "outputs": []
    },
    {
      "cell_type": "code",
      "execution_count": null,
      "metadata": {
        "id": "696fa7f4"
      },
      "outputs": [],
      "source": [
        "for k in k_values:\n"
      ],
      "id": "696fa7f4"
    },
    {
      "cell_type": "markdown",
      "source": [
        "Print out the results"
      ],
      "metadata": {
        "id": "CAUAuLcISAmz"
      },
      "id": "CAUAuLcISAmz"
    },
    {
      "cell_type": "code",
      "source": [
        "print(\"KNC Performance:\")\n",
        "for k, score in knn_scores:\n"
      ],
      "metadata": {
        "id": "VIYn8zFoSCXD"
      },
      "id": "VIYn8zFoSCXD",
      "execution_count": null,
      "outputs": []
    },
    {
      "cell_type": "markdown",
      "source": [
        "Which k value gives the best performance?"
      ],
      "metadata": {
        "id": "xKWKHhnVayZE"
      },
      "id": "xKWKHhnVayZE"
    },
    {
      "cell_type": "markdown",
      "source": [
        "Now try with different max_depth values for the DTC"
      ],
      "metadata": {
        "id": "Y236C5MjSYoD"
      },
      "id": "Y236C5MjSYoD"
    },
    {
      "cell_type": "code",
      "source": [
        "max_depth_values = list(range(2, 11))\n",
        "dtc_scores = []"
      ],
      "metadata": {
        "id": "ndzU078TSeZy"
      },
      "id": "ndzU078TSeZy",
      "execution_count": null,
      "outputs": []
    },
    {
      "cell_type": "code",
      "execution_count": null,
      "metadata": {
        "id": "a99d8efb"
      },
      "outputs": [],
      "source": [
        "for max_depth in max_depth_values:\n"
      ],
      "id": "a99d8efb"
    },
    {
      "cell_type": "markdown",
      "source": [
        "Print out the results"
      ],
      "metadata": {
        "id": "sCcnPKYvSpS0"
      },
      "id": "sCcnPKYvSpS0"
    },
    {
      "cell_type": "code",
      "source": [
        "print(\"Decision Tree Performance:\")\n",
        "for max_depth, score in dtc_scores:\n"
      ],
      "metadata": {
        "id": "kMaEeZyQSjz8"
      },
      "id": "kMaEeZyQSjz8",
      "execution_count": null,
      "outputs": []
    },
    {
      "cell_type": "markdown",
      "source": [
        "What is the maximum depth that gives the best performance?"
      ],
      "metadata": {
        "id": "RpNTSzSBa5f8"
      },
      "id": "RpNTSzSBa5f8"
    },
    {
      "cell_type": "markdown",
      "metadata": {
        "id": "eb557506"
      },
      "source": [
        "Which classifier performs better?"
      ],
      "id": "eb557506"
    }
  ],
  "metadata": {
    "kernelspec": {
      "display_name": "Python 3 (ipykernel)",
      "language": "python",
      "name": "python3"
    },
    "language_info": {
      "codemirror_mode": {
        "name": "ipython",
        "version": 3
      },
      "file_extension": ".py",
      "mimetype": "text/x-python",
      "name": "python",
      "nbconvert_exporter": "python",
      "pygments_lexer": "ipython3",
      "version": "3.9.13"
    },
    "colab": {
      "provenance": [],
      "include_colab_link": true
    }
  },
  "nbformat": 4,
  "nbformat_minor": 5
}