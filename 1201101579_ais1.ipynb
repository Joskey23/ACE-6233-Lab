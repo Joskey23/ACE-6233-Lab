{
  "cells": [
    {
      "cell_type": "markdown",
      "metadata": {
        "id": "view-in-github",
        "colab_type": "text"
      },
      "source": [
        "<a href=\"https://colab.research.google.com/github/Joskey23/ACE-6233-Lab/blob/main/1201101579_ais1.ipynb\" target=\"_parent\"><img src=\"https://colab.research.google.com/assets/colab-badge.svg\" alt=\"Open In Colab\"/></a>"
      ]
    },
    {
      "cell_type": "markdown",
      "id": "42a26803",
      "metadata": {
        "id": "42a26803"
      },
      "source": [
        "## Regression model that uses height to predict weight"
      ]
    },
    {
      "cell_type": "markdown",
      "source": [
        "Load modules and packages"
      ],
      "metadata": {
        "id": "rfrMDZrxOjRX"
      },
      "id": "rfrMDZrxOjRX"
    },
    {
      "cell_type": "code",
      "execution_count": null,
      "id": "e24a7fc4",
      "metadata": {
        "id": "e24a7fc4"
      },
      "outputs": [],
      "source": [
        "import pandas as pd\n",
        "import numpy as np\n",
        "from sklearn.model_selection import train_test_split, cross_val_score\n",
        "from sklearn.linear_model import LinearRegression\n",
        "from sklearn.metrics import mean_squared_error, r2_score\n",
        "import matplotlib.pyplot as plt"
      ]
    },
    {
      "cell_type": "markdown",
      "source": [
        "Load dataset"
      ],
      "metadata": {
        "id": "7o3slXQKOoUG"
      },
      "id": "7o3slXQKOoUG"
    },
    {
      "cell_type": "code",
      "source": [
        "url = \"https://raw.githubusercontent.com/wooihaw/datasets/main/genders_heights_weights.csv\"\n",
        "df = pd.read_csv(url)"
      ],
      "metadata": {
        "id": "S0ocIfMbOmFe"
      },
      "id": "S0ocIfMbOmFe",
      "execution_count": null,
      "outputs": []
    },
    {
      "cell_type": "markdown",
      "source": [
        "Print out the dimension of dataset, and the corresponding data types"
      ],
      "metadata": {
        "id": "veS5CpaY5IkR"
      },
      "id": "veS5CpaY5IkR"
    },
    {
      "cell_type": "code",
      "source": [
        "print(\"Dataset Overview:\")\n",
        "print(df.head())\n",
        "print(f\"\\nDataset shape: {df.shape}\")\n",
        "print(f\"\\nColumn names: {df.columns.tolist()}\")\n",
        "print(f\"\\nData types:\\n{df.dtypes}\")\n"
      ],
      "metadata": {
        "id": "BwDh0lRk4zmC",
        "colab": {
          "base_uri": "https://localhost:8080/"
        },
        "outputId": "e42d1c1e-2692-42d0-ab2b-6c9ccece2007"
      },
      "id": "BwDh0lRk4zmC",
      "execution_count": null,
      "outputs": [
        {
          "output_type": "stream",
          "name": "stdout",
          "text": [
            "Dataset Overview:\n",
            "   Gender  Height  Weight\n",
            "0  Female   162.5    67.3\n",
            "1  Female   155.8    55.3\n",
            "2  Female   168.7    58.7\n",
            "3    Male   170.8    75.6\n",
            "4  Female   159.8    59.7\n",
            "\n",
            "Dataset shape: (10000, 3)\n",
            "\n",
            "Column names: ['Gender', 'Height', 'Weight']\n",
            "\n",
            "Data types:\n",
            "Gender     object\n",
            "Height    float64\n",
            "Weight    float64\n",
            "dtype: object\n"
          ]
        }
      ]
    },
    {
      "cell_type": "markdown",
      "source": [
        "Preview 10 lines of data randomly"
      ],
      "metadata": {
        "id": "KwNnaFpa5Oi6"
      },
      "id": "KwNnaFpa5Oi6"
    },
    {
      "cell_type": "code",
      "source": [
        "random_sample = df.sample(n=10, random_state=42)\n",
        "print(random_sample)"
      ],
      "metadata": {
        "id": "YTKCZFzS5PZa",
        "colab": {
          "base_uri": "https://localhost:8080/"
        },
        "outputId": "e1fc1fe2-215b-4e14-c3d5-3ebf1410d44b"
      },
      "id": "YTKCZFzS5PZa",
      "execution_count": null,
      "outputs": [
        {
          "output_type": "stream",
          "name": "stdout",
          "text": [
            "      Gender  Height  Weight\n",
            "6252    Male   181.1    96.2\n",
            "4684    Male   173.9    81.0\n",
            "1731  Female   165.7    65.3\n",
            "4742    Male   181.9    94.4\n",
            "4521  Female   152.9    46.3\n",
            "6340  Female   153.2    49.0\n",
            "576   Female   159.5    57.5\n",
            "5202    Male   181.0    87.1\n",
            "6363    Male   170.9    84.0\n",
            "439     Male   176.2    82.6\n"
          ]
        }
      ]
    },
    {
      "cell_type": "markdown",
      "source": [
        "Descriptive statistics"
      ],
      "metadata": {
        "id": "Giclee9x5YIB"
      },
      "id": "Giclee9x5YIB"
    },
    {
      "cell_type": "code",
      "source": [
        "print(\"\\nDescriptive statistics:\")\n",
        "print(df.describe())\n"
      ],
      "metadata": {
        "id": "2tEvWVb65YfT",
        "colab": {
          "base_uri": "https://localhost:8080/"
        },
        "outputId": "56593c64-2599-4deb-a225-946243ce5c18"
      },
      "id": "2tEvWVb65YfT",
      "execution_count": null,
      "outputs": [
        {
          "output_type": "stream",
          "name": "stdout",
          "text": [
            "\n",
            "Descriptive statistics:\n",
            "             Height        Weight\n",
            "count  10000.000000  10000.000000\n",
            "mean     168.573940     73.228260\n",
            "std        9.772842     14.563851\n",
            "min      137.800000     29.300000\n",
            "25%      161.300000     61.600000\n",
            "50%      168.400000     73.100000\n",
            "75%      175.700000     84.900000\n",
            "max      200.700000    122.500000\n"
          ]
        }
      ]
    },
    {
      "cell_type": "markdown",
      "source": [
        "Split dataset into training and testing sets"
      ],
      "metadata": {
        "id": "aP3tR9uL5uJR"
      },
      "id": "aP3tR9uL5uJR"
    },
    {
      "cell_type": "markdown",
      "source": [
        "#Linear Regression without gender"
      ],
      "metadata": {
        "id": "mcdelenui_ko"
      },
      "id": "mcdelenui_ko"
    },
    {
      "cell_type": "markdown",
      "source": [
        "Use height to predict weight without considering gender"
      ],
      "metadata": {
        "id": "40R8A7IENcdL"
      },
      "id": "40R8A7IENcdL"
    },
    {
      "cell_type": "code",
      "source": [
        "X1 = df[['Height']]\n",
        "y = df['Weight']\n"
      ],
      "metadata": {
        "id": "rISpcwaH5umO"
      },
      "id": "rISpcwaH5umO",
      "execution_count": null,
      "outputs": []
    },
    {
      "cell_type": "markdown",
      "source": [
        "Split data into train and test set"
      ],
      "metadata": {
        "id": "w1yL4UtXlFY-"
      },
      "id": "w1yL4UtXlFY-"
    },
    {
      "cell_type": "code",
      "source": [
        "X1_train, X1_test, y_train, y_test = train_test_split(X1, y, test_size=0.2, random_state=42)"
      ],
      "metadata": {
        "id": "SYyR9HbqNpvs"
      },
      "id": "SYyR9HbqNpvs",
      "execution_count": null,
      "outputs": []
    },
    {
      "cell_type": "code",
      "source": [
        "print(f\"Training set size: {X1_train.shape[0]} samples\")\n",
        "print(f\"Testing set size: {X1_test.shape[0]} samples\")"
      ],
      "metadata": {
        "id": "OziBw5SSNWEc",
        "colab": {
          "base_uri": "https://localhost:8080/"
        },
        "outputId": "29932e3b-67ad-4872-b09b-76f98865916e"
      },
      "id": "OziBw5SSNWEc",
      "execution_count": null,
      "outputs": [
        {
          "output_type": "stream",
          "name": "stdout",
          "text": [
            "Training set size: 8000 samples\n",
            "Testing set size: 2000 samples\n"
          ]
        }
      ]
    },
    {
      "cell_type": "markdown",
      "source": [
        "Linear Regression"
      ],
      "metadata": {
        "id": "wV8sUIUE6d0c"
      },
      "id": "wV8sUIUE6d0c"
    },
    {
      "cell_type": "code",
      "execution_count": null,
      "id": "23d1fad8",
      "metadata": {
        "id": "23d1fad8"
      },
      "outputs": [],
      "source": [
        "# Initialize the linear regression model\n",
        "model1 = LinearRegression()"
      ]
    },
    {
      "cell_type": "markdown",
      "source": [
        "Training"
      ],
      "metadata": {
        "id": "IL1z6Rp_6onG"
      },
      "id": "IL1z6Rp_6onG"
    },
    {
      "cell_type": "code",
      "source": [
        "# Fit the model to the training data\n",
        "model1.fit(X1_train, y_train)"
      ],
      "metadata": {
        "id": "KrFl189a6rtq",
        "colab": {
          "base_uri": "https://localhost:8080/",
          "height": 57
        },
        "outputId": "2620d3f4-8452-4082-9b71-43ba9493c3ed"
      },
      "id": "KrFl189a6rtq",
      "execution_count": null,
      "outputs": [
        {
          "output_type": "execute_result",
          "data": {
            "text/plain": [
              "LinearRegression()"
            ],
            "text/html": [
              "<style>#sk-container-id-1 {\n",
              "  /* Definition of color scheme common for light and dark mode */\n",
              "  --sklearn-color-text: #000;\n",
              "  --sklearn-color-text-muted: #666;\n",
              "  --sklearn-color-line: gray;\n",
              "  /* Definition of color scheme for unfitted estimators */\n",
              "  --sklearn-color-unfitted-level-0: #fff5e6;\n",
              "  --sklearn-color-unfitted-level-1: #f6e4d2;\n",
              "  --sklearn-color-unfitted-level-2: #ffe0b3;\n",
              "  --sklearn-color-unfitted-level-3: chocolate;\n",
              "  /* Definition of color scheme for fitted estimators */\n",
              "  --sklearn-color-fitted-level-0: #f0f8ff;\n",
              "  --sklearn-color-fitted-level-1: #d4ebff;\n",
              "  --sklearn-color-fitted-level-2: #b3dbfd;\n",
              "  --sklearn-color-fitted-level-3: cornflowerblue;\n",
              "\n",
              "  /* Specific color for light theme */\n",
              "  --sklearn-color-text-on-default-background: var(--sg-text-color, var(--theme-code-foreground, var(--jp-content-font-color1, black)));\n",
              "  --sklearn-color-background: var(--sg-background-color, var(--theme-background, var(--jp-layout-color0, white)));\n",
              "  --sklearn-color-border-box: var(--sg-text-color, var(--theme-code-foreground, var(--jp-content-font-color1, black)));\n",
              "  --sklearn-color-icon: #696969;\n",
              "\n",
              "  @media (prefers-color-scheme: dark) {\n",
              "    /* Redefinition of color scheme for dark theme */\n",
              "    --sklearn-color-text-on-default-background: var(--sg-text-color, var(--theme-code-foreground, var(--jp-content-font-color1, white)));\n",
              "    --sklearn-color-background: var(--sg-background-color, var(--theme-background, var(--jp-layout-color0, #111)));\n",
              "    --sklearn-color-border-box: var(--sg-text-color, var(--theme-code-foreground, var(--jp-content-font-color1, white)));\n",
              "    --sklearn-color-icon: #878787;\n",
              "  }\n",
              "}\n",
              "\n",
              "#sk-container-id-1 {\n",
              "  color: var(--sklearn-color-text);\n",
              "}\n",
              "\n",
              "#sk-container-id-1 pre {\n",
              "  padding: 0;\n",
              "}\n",
              "\n",
              "#sk-container-id-1 input.sk-hidden--visually {\n",
              "  border: 0;\n",
              "  clip: rect(1px 1px 1px 1px);\n",
              "  clip: rect(1px, 1px, 1px, 1px);\n",
              "  height: 1px;\n",
              "  margin: -1px;\n",
              "  overflow: hidden;\n",
              "  padding: 0;\n",
              "  position: absolute;\n",
              "  width: 1px;\n",
              "}\n",
              "\n",
              "#sk-container-id-1 div.sk-dashed-wrapped {\n",
              "  border: 1px dashed var(--sklearn-color-line);\n",
              "  margin: 0 0.4em 0.5em 0.4em;\n",
              "  box-sizing: border-box;\n",
              "  padding-bottom: 0.4em;\n",
              "  background-color: var(--sklearn-color-background);\n",
              "}\n",
              "\n",
              "#sk-container-id-1 div.sk-container {\n",
              "  /* jupyter's `normalize.less` sets `[hidden] { display: none; }`\n",
              "     but bootstrap.min.css set `[hidden] { display: none !important; }`\n",
              "     so we also need the `!important` here to be able to override the\n",
              "     default hidden behavior on the sphinx rendered scikit-learn.org.\n",
              "     See: https://github.com/scikit-learn/scikit-learn/issues/21755 */\n",
              "  display: inline-block !important;\n",
              "  position: relative;\n",
              "}\n",
              "\n",
              "#sk-container-id-1 div.sk-text-repr-fallback {\n",
              "  display: none;\n",
              "}\n",
              "\n",
              "div.sk-parallel-item,\n",
              "div.sk-serial,\n",
              "div.sk-item {\n",
              "  /* draw centered vertical line to link estimators */\n",
              "  background-image: linear-gradient(var(--sklearn-color-text-on-default-background), var(--sklearn-color-text-on-default-background));\n",
              "  background-size: 2px 100%;\n",
              "  background-repeat: no-repeat;\n",
              "  background-position: center center;\n",
              "}\n",
              "\n",
              "/* Parallel-specific style estimator block */\n",
              "\n",
              "#sk-container-id-1 div.sk-parallel-item::after {\n",
              "  content: \"\";\n",
              "  width: 100%;\n",
              "  border-bottom: 2px solid var(--sklearn-color-text-on-default-background);\n",
              "  flex-grow: 1;\n",
              "}\n",
              "\n",
              "#sk-container-id-1 div.sk-parallel {\n",
              "  display: flex;\n",
              "  align-items: stretch;\n",
              "  justify-content: center;\n",
              "  background-color: var(--sklearn-color-background);\n",
              "  position: relative;\n",
              "}\n",
              "\n",
              "#sk-container-id-1 div.sk-parallel-item {\n",
              "  display: flex;\n",
              "  flex-direction: column;\n",
              "}\n",
              "\n",
              "#sk-container-id-1 div.sk-parallel-item:first-child::after {\n",
              "  align-self: flex-end;\n",
              "  width: 50%;\n",
              "}\n",
              "\n",
              "#sk-container-id-1 div.sk-parallel-item:last-child::after {\n",
              "  align-self: flex-start;\n",
              "  width: 50%;\n",
              "}\n",
              "\n",
              "#sk-container-id-1 div.sk-parallel-item:only-child::after {\n",
              "  width: 0;\n",
              "}\n",
              "\n",
              "/* Serial-specific style estimator block */\n",
              "\n",
              "#sk-container-id-1 div.sk-serial {\n",
              "  display: flex;\n",
              "  flex-direction: column;\n",
              "  align-items: center;\n",
              "  background-color: var(--sklearn-color-background);\n",
              "  padding-right: 1em;\n",
              "  padding-left: 1em;\n",
              "}\n",
              "\n",
              "\n",
              "/* Toggleable style: style used for estimator/Pipeline/ColumnTransformer box that is\n",
              "clickable and can be expanded/collapsed.\n",
              "- Pipeline and ColumnTransformer use this feature and define the default style\n",
              "- Estimators will overwrite some part of the style using the `sk-estimator` class\n",
              "*/\n",
              "\n",
              "/* Pipeline and ColumnTransformer style (default) */\n",
              "\n",
              "#sk-container-id-1 div.sk-toggleable {\n",
              "  /* Default theme specific background. It is overwritten whether we have a\n",
              "  specific estimator or a Pipeline/ColumnTransformer */\n",
              "  background-color: var(--sklearn-color-background);\n",
              "}\n",
              "\n",
              "/* Toggleable label */\n",
              "#sk-container-id-1 label.sk-toggleable__label {\n",
              "  cursor: pointer;\n",
              "  display: flex;\n",
              "  width: 100%;\n",
              "  margin-bottom: 0;\n",
              "  padding: 0.5em;\n",
              "  box-sizing: border-box;\n",
              "  text-align: center;\n",
              "  align-items: start;\n",
              "  justify-content: space-between;\n",
              "  gap: 0.5em;\n",
              "}\n",
              "\n",
              "#sk-container-id-1 label.sk-toggleable__label .caption {\n",
              "  font-size: 0.6rem;\n",
              "  font-weight: lighter;\n",
              "  color: var(--sklearn-color-text-muted);\n",
              "}\n",
              "\n",
              "#sk-container-id-1 label.sk-toggleable__label-arrow:before {\n",
              "  /* Arrow on the left of the label */\n",
              "  content: \"▸\";\n",
              "  float: left;\n",
              "  margin-right: 0.25em;\n",
              "  color: var(--sklearn-color-icon);\n",
              "}\n",
              "\n",
              "#sk-container-id-1 label.sk-toggleable__label-arrow:hover:before {\n",
              "  color: var(--sklearn-color-text);\n",
              "}\n",
              "\n",
              "/* Toggleable content - dropdown */\n",
              "\n",
              "#sk-container-id-1 div.sk-toggleable__content {\n",
              "  max-height: 0;\n",
              "  max-width: 0;\n",
              "  overflow: hidden;\n",
              "  text-align: left;\n",
              "  /* unfitted */\n",
              "  background-color: var(--sklearn-color-unfitted-level-0);\n",
              "}\n",
              "\n",
              "#sk-container-id-1 div.sk-toggleable__content.fitted {\n",
              "  /* fitted */\n",
              "  background-color: var(--sklearn-color-fitted-level-0);\n",
              "}\n",
              "\n",
              "#sk-container-id-1 div.sk-toggleable__content pre {\n",
              "  margin: 0.2em;\n",
              "  border-radius: 0.25em;\n",
              "  color: var(--sklearn-color-text);\n",
              "  /* unfitted */\n",
              "  background-color: var(--sklearn-color-unfitted-level-0);\n",
              "}\n",
              "\n",
              "#sk-container-id-1 div.sk-toggleable__content.fitted pre {\n",
              "  /* unfitted */\n",
              "  background-color: var(--sklearn-color-fitted-level-0);\n",
              "}\n",
              "\n",
              "#sk-container-id-1 input.sk-toggleable__control:checked~div.sk-toggleable__content {\n",
              "  /* Expand drop-down */\n",
              "  max-height: 200px;\n",
              "  max-width: 100%;\n",
              "  overflow: auto;\n",
              "}\n",
              "\n",
              "#sk-container-id-1 input.sk-toggleable__control:checked~label.sk-toggleable__label-arrow:before {\n",
              "  content: \"▾\";\n",
              "}\n",
              "\n",
              "/* Pipeline/ColumnTransformer-specific style */\n",
              "\n",
              "#sk-container-id-1 div.sk-label input.sk-toggleable__control:checked~label.sk-toggleable__label {\n",
              "  color: var(--sklearn-color-text);\n",
              "  background-color: var(--sklearn-color-unfitted-level-2);\n",
              "}\n",
              "\n",
              "#sk-container-id-1 div.sk-label.fitted input.sk-toggleable__control:checked~label.sk-toggleable__label {\n",
              "  background-color: var(--sklearn-color-fitted-level-2);\n",
              "}\n",
              "\n",
              "/* Estimator-specific style */\n",
              "\n",
              "/* Colorize estimator box */\n",
              "#sk-container-id-1 div.sk-estimator input.sk-toggleable__control:checked~label.sk-toggleable__label {\n",
              "  /* unfitted */\n",
              "  background-color: var(--sklearn-color-unfitted-level-2);\n",
              "}\n",
              "\n",
              "#sk-container-id-1 div.sk-estimator.fitted input.sk-toggleable__control:checked~label.sk-toggleable__label {\n",
              "  /* fitted */\n",
              "  background-color: var(--sklearn-color-fitted-level-2);\n",
              "}\n",
              "\n",
              "#sk-container-id-1 div.sk-label label.sk-toggleable__label,\n",
              "#sk-container-id-1 div.sk-label label {\n",
              "  /* The background is the default theme color */\n",
              "  color: var(--sklearn-color-text-on-default-background);\n",
              "}\n",
              "\n",
              "/* On hover, darken the color of the background */\n",
              "#sk-container-id-1 div.sk-label:hover label.sk-toggleable__label {\n",
              "  color: var(--sklearn-color-text);\n",
              "  background-color: var(--sklearn-color-unfitted-level-2);\n",
              "}\n",
              "\n",
              "/* Label box, darken color on hover, fitted */\n",
              "#sk-container-id-1 div.sk-label.fitted:hover label.sk-toggleable__label.fitted {\n",
              "  color: var(--sklearn-color-text);\n",
              "  background-color: var(--sklearn-color-fitted-level-2);\n",
              "}\n",
              "\n",
              "/* Estimator label */\n",
              "\n",
              "#sk-container-id-1 div.sk-label label {\n",
              "  font-family: monospace;\n",
              "  font-weight: bold;\n",
              "  display: inline-block;\n",
              "  line-height: 1.2em;\n",
              "}\n",
              "\n",
              "#sk-container-id-1 div.sk-label-container {\n",
              "  text-align: center;\n",
              "}\n",
              "\n",
              "/* Estimator-specific */\n",
              "#sk-container-id-1 div.sk-estimator {\n",
              "  font-family: monospace;\n",
              "  border: 1px dotted var(--sklearn-color-border-box);\n",
              "  border-radius: 0.25em;\n",
              "  box-sizing: border-box;\n",
              "  margin-bottom: 0.5em;\n",
              "  /* unfitted */\n",
              "  background-color: var(--sklearn-color-unfitted-level-0);\n",
              "}\n",
              "\n",
              "#sk-container-id-1 div.sk-estimator.fitted {\n",
              "  /* fitted */\n",
              "  background-color: var(--sklearn-color-fitted-level-0);\n",
              "}\n",
              "\n",
              "/* on hover */\n",
              "#sk-container-id-1 div.sk-estimator:hover {\n",
              "  /* unfitted */\n",
              "  background-color: var(--sklearn-color-unfitted-level-2);\n",
              "}\n",
              "\n",
              "#sk-container-id-1 div.sk-estimator.fitted:hover {\n",
              "  /* fitted */\n",
              "  background-color: var(--sklearn-color-fitted-level-2);\n",
              "}\n",
              "\n",
              "/* Specification for estimator info (e.g. \"i\" and \"?\") */\n",
              "\n",
              "/* Common style for \"i\" and \"?\" */\n",
              "\n",
              ".sk-estimator-doc-link,\n",
              "a:link.sk-estimator-doc-link,\n",
              "a:visited.sk-estimator-doc-link {\n",
              "  float: right;\n",
              "  font-size: smaller;\n",
              "  line-height: 1em;\n",
              "  font-family: monospace;\n",
              "  background-color: var(--sklearn-color-background);\n",
              "  border-radius: 1em;\n",
              "  height: 1em;\n",
              "  width: 1em;\n",
              "  text-decoration: none !important;\n",
              "  margin-left: 0.5em;\n",
              "  text-align: center;\n",
              "  /* unfitted */\n",
              "  border: var(--sklearn-color-unfitted-level-1) 1pt solid;\n",
              "  color: var(--sklearn-color-unfitted-level-1);\n",
              "}\n",
              "\n",
              ".sk-estimator-doc-link.fitted,\n",
              "a:link.sk-estimator-doc-link.fitted,\n",
              "a:visited.sk-estimator-doc-link.fitted {\n",
              "  /* fitted */\n",
              "  border: var(--sklearn-color-fitted-level-1) 1pt solid;\n",
              "  color: var(--sklearn-color-fitted-level-1);\n",
              "}\n",
              "\n",
              "/* On hover */\n",
              "div.sk-estimator:hover .sk-estimator-doc-link:hover,\n",
              ".sk-estimator-doc-link:hover,\n",
              "div.sk-label-container:hover .sk-estimator-doc-link:hover,\n",
              ".sk-estimator-doc-link:hover {\n",
              "  /* unfitted */\n",
              "  background-color: var(--sklearn-color-unfitted-level-3);\n",
              "  color: var(--sklearn-color-background);\n",
              "  text-decoration: none;\n",
              "}\n",
              "\n",
              "div.sk-estimator.fitted:hover .sk-estimator-doc-link.fitted:hover,\n",
              ".sk-estimator-doc-link.fitted:hover,\n",
              "div.sk-label-container:hover .sk-estimator-doc-link.fitted:hover,\n",
              ".sk-estimator-doc-link.fitted:hover {\n",
              "  /* fitted */\n",
              "  background-color: var(--sklearn-color-fitted-level-3);\n",
              "  color: var(--sklearn-color-background);\n",
              "  text-decoration: none;\n",
              "}\n",
              "\n",
              "/* Span, style for the box shown on hovering the info icon */\n",
              ".sk-estimator-doc-link span {\n",
              "  display: none;\n",
              "  z-index: 9999;\n",
              "  position: relative;\n",
              "  font-weight: normal;\n",
              "  right: .2ex;\n",
              "  padding: .5ex;\n",
              "  margin: .5ex;\n",
              "  width: min-content;\n",
              "  min-width: 20ex;\n",
              "  max-width: 50ex;\n",
              "  color: var(--sklearn-color-text);\n",
              "  box-shadow: 2pt 2pt 4pt #999;\n",
              "  /* unfitted */\n",
              "  background: var(--sklearn-color-unfitted-level-0);\n",
              "  border: .5pt solid var(--sklearn-color-unfitted-level-3);\n",
              "}\n",
              "\n",
              ".sk-estimator-doc-link.fitted span {\n",
              "  /* fitted */\n",
              "  background: var(--sklearn-color-fitted-level-0);\n",
              "  border: var(--sklearn-color-fitted-level-3);\n",
              "}\n",
              "\n",
              ".sk-estimator-doc-link:hover span {\n",
              "  display: block;\n",
              "}\n",
              "\n",
              "/* \"?\"-specific style due to the `<a>` HTML tag */\n",
              "\n",
              "#sk-container-id-1 a.estimator_doc_link {\n",
              "  float: right;\n",
              "  font-size: 1rem;\n",
              "  line-height: 1em;\n",
              "  font-family: monospace;\n",
              "  background-color: var(--sklearn-color-background);\n",
              "  border-radius: 1rem;\n",
              "  height: 1rem;\n",
              "  width: 1rem;\n",
              "  text-decoration: none;\n",
              "  /* unfitted */\n",
              "  color: var(--sklearn-color-unfitted-level-1);\n",
              "  border: var(--sklearn-color-unfitted-level-1) 1pt solid;\n",
              "}\n",
              "\n",
              "#sk-container-id-1 a.estimator_doc_link.fitted {\n",
              "  /* fitted */\n",
              "  border: var(--sklearn-color-fitted-level-1) 1pt solid;\n",
              "  color: var(--sklearn-color-fitted-level-1);\n",
              "}\n",
              "\n",
              "/* On hover */\n",
              "#sk-container-id-1 a.estimator_doc_link:hover {\n",
              "  /* unfitted */\n",
              "  background-color: var(--sklearn-color-unfitted-level-3);\n",
              "  color: var(--sklearn-color-background);\n",
              "  text-decoration: none;\n",
              "}\n",
              "\n",
              "#sk-container-id-1 a.estimator_doc_link.fitted:hover {\n",
              "  /* fitted */\n",
              "  background-color: var(--sklearn-color-fitted-level-3);\n",
              "}\n",
              "</style><div id=\"sk-container-id-1\" class=\"sk-top-container\"><div class=\"sk-text-repr-fallback\"><pre>LinearRegression()</pre><b>In a Jupyter environment, please rerun this cell to show the HTML representation or trust the notebook. <br />On GitHub, the HTML representation is unable to render, please try loading this page with nbviewer.org.</b></div><div class=\"sk-container\" hidden><div class=\"sk-item\"><div class=\"sk-estimator fitted sk-toggleable\"><input class=\"sk-toggleable__control sk-hidden--visually\" id=\"sk-estimator-id-1\" type=\"checkbox\" checked><label for=\"sk-estimator-id-1\" class=\"sk-toggleable__label fitted sk-toggleable__label-arrow\"><div><div>LinearRegression</div></div><div><a class=\"sk-estimator-doc-link fitted\" rel=\"noreferrer\" target=\"_blank\" href=\"https://scikit-learn.org/1.6/modules/generated/sklearn.linear_model.LinearRegression.html\">?<span>Documentation for LinearRegression</span></a><span class=\"sk-estimator-doc-link fitted\">i<span>Fitted</span></span></div></label><div class=\"sk-toggleable__content fitted\"><pre>LinearRegression()</pre></div> </div></div></div></div>"
            ]
          },
          "metadata": {},
          "execution_count": 12
        }
      ]
    },
    {
      "cell_type": "markdown",
      "source": [
        "Evaluate with 5-cross-validation using validation set obtained from train set"
      ],
      "metadata": {
        "id": "vprMfBGu6xmh"
      },
      "id": "vprMfBGu6xmh"
    },
    {
      "cell_type": "code",
      "source": [
        "# Evaluate the model's performance based on evaluation metrics, e.g. R2 score, Mean Squared Error, etc.\n",
        "cv_scores_1 = cross_val_score(model1, X1_train, y_train, cv=5, scoring='r2')\n"
      ],
      "metadata": {
        "id": "s71qwS996yu2"
      },
      "id": "s71qwS996yu2",
      "execution_count": null,
      "outputs": []
    },
    {
      "cell_type": "code",
      "source": [
        "print(f\"Cross-validation R² scores: {cv_scores_1}\")\n",
        "print(f\"Mean CV R² Score: {cv_scores_1.mean():.4f} (±{cv_scores_1.std():.4f})\")"
      ],
      "metadata": {
        "id": "dbAms9tpOMyD",
        "colab": {
          "base_uri": "https://localhost:8080/"
        },
        "outputId": "a65c9c37-a757-499a-b15f-03163c97d475"
      },
      "id": "dbAms9tpOMyD",
      "execution_count": null,
      "outputs": [
        {
          "output_type": "stream",
          "name": "stdout",
          "text": [
            "Cross-validation R² scores: [0.86441303 0.84564411 0.85595277 0.84802563 0.85372429]\n",
            "Mean CV R² Score: 0.8536 (±0.0066)\n"
          ]
        }
      ]
    },
    {
      "cell_type": "markdown",
      "source": [
        "Evaluate with test set"
      ],
      "metadata": {
        "id": "HC8tBqUPqzp0"
      },
      "id": "HC8tBqUPqzp0"
    },
    {
      "cell_type": "code",
      "source": [
        "y_pred1 = model1.predict(X1_test)\n",
        "#calculate r2 values for test set\n",
        "r2_1 = r2_score(y_test, y_pred1)\n",
        "#calculate MSE for the test set\n",
        "mse_1 = mean_squared_error(y_test, y_pred1)"
      ],
      "metadata": {
        "id": "fzRx6zleq2Rr"
      },
      "id": "fzRx6zleq2Rr",
      "execution_count": null,
      "outputs": []
    },
    {
      "cell_type": "markdown",
      "source": [
        "The performance metric of test set will always be the same since a simple spliting of data is used"
      ],
      "metadata": {
        "id": "_F2LpHktsFcq"
      },
      "id": "_F2LpHktsFcq"
    },
    {
      "cell_type": "code",
      "source": [
        "print(f\"Model 1 Performance (Height only):\")\n",
        "print(f\"CV R² Score: {cv_scores_1.mean():.4f}\")\n",
        "print(f\"Test R² Score: {r2_1:.4f}\")\n",
        "print(f\"Test MSE: {mse_1:.4f}\")\n",
        "print(f\"Test RMSE: {np.sqrt(mse_1):.4f}\")"
      ],
      "metadata": {
        "colab": {
          "base_uri": "https://localhost:8080/"
        },
        "id": "fF3Q8kg9q-T_",
        "outputId": "68ab92ad-272b-4984-cb10-2667edf86df9"
      },
      "id": "fF3Q8kg9q-T_",
      "execution_count": null,
      "outputs": [
        {
          "output_type": "stream",
          "name": "stdout",
          "text": [
            "Model 1 Performance (Height only):\n",
            "CV R² Score: 0.8536\n",
            "Test R² Score: 0.8600\n",
            "Test MSE: 30.7064\n",
            "Test RMSE: 5.5413\n"
          ]
        }
      ]
    },
    {
      "cell_type": "markdown",
      "source": [
        "Now make use of the `gender` info"
      ],
      "metadata": {
        "id": "4WCMhWSxOcMT"
      },
      "id": "4WCMhWSxOcMT"
    },
    {
      "cell_type": "markdown",
      "source": [
        "Encode `Gender` using *one-hot encoding*"
      ],
      "metadata": {
        "id": "l2m5lcb_61-6"
      },
      "id": "l2m5lcb_61-6"
    },
    {
      "cell_type": "code",
      "execution_count": null,
      "id": "a117b29f",
      "metadata": {
        "id": "a117b29f"
      },
      "outputs": [],
      "source": [
        "df_encoded = pd.get_dummies(df, columns=['Gender'], prefix='Gender')"
      ]
    },
    {
      "cell_type": "code",
      "source": [
        "print(\"Columns after one-hot encoding:\", list(df_encoded.columns))\n"
      ],
      "metadata": {
        "id": "OE3tpCu-OlML",
        "colab": {
          "base_uri": "https://localhost:8080/"
        },
        "outputId": "0627546c-18b0-426b-a335-bdfdc1a63c4d"
      },
      "id": "OE3tpCu-OlML",
      "execution_count": null,
      "outputs": [
        {
          "output_type": "stream",
          "name": "stdout",
          "text": [
            "Columns after one-hot encoding: ['Height', 'Weight', 'Gender_Female', 'Gender_Male']\n"
          ]
        }
      ]
    },
    {
      "cell_type": "markdown",
      "source": [
        "This round, keep the gender info."
      ],
      "metadata": {
        "id": "vbZsh6R_7c4J"
      },
      "id": "vbZsh6R_7c4J"
    },
    {
      "cell_type": "code",
      "execution_count": null,
      "id": "d4a4a498",
      "metadata": {
        "id": "d4a4a498"
      },
      "outputs": [],
      "source": [
        "# Prepare data with gender\n",
        "X2 = df_encoded[['Height', 'Gender_Female', 'Gender_Male']]\n",
        "y2 = df_encoded['Weight']"
      ]
    },
    {
      "cell_type": "markdown",
      "source": [
        "Split into training and testing datasets"
      ],
      "metadata": {
        "id": "72LUd-m-OuXL"
      },
      "id": "72LUd-m-OuXL"
    },
    {
      "cell_type": "code",
      "source": [
        "X2_train, X2_test, y2_train, y2_test = train_test_split(X2, y2, test_size=0.2, random_state=42)"
      ],
      "metadata": {
        "id": "SRc2Iy-8O7Ur"
      },
      "id": "SRc2Iy-8O7Ur",
      "execution_count": null,
      "outputs": []
    },
    {
      "cell_type": "markdown",
      "source": [
        "An insight on the current prepared data"
      ],
      "metadata": {
        "id": "LYK8iQ-8tC-H"
      },
      "id": "LYK8iQ-8tC-H"
    },
    {
      "cell_type": "code",
      "source": [
        "print(f\"Features with gender: {list(X2.columns)}\")\n",
        "print(f\"Training set size: {X2_train.shape[0]} samples\")\n",
        "print(f\"Testing set size: {X2_test.shape[0]} samples\")"
      ],
      "metadata": {
        "colab": {
          "base_uri": "https://localhost:8080/"
        },
        "id": "7UsvyBShtCOC",
        "outputId": "18192af1-28b0-488c-df3d-a129dbca4b5f"
      },
      "id": "7UsvyBShtCOC",
      "execution_count": null,
      "outputs": [
        {
          "output_type": "stream",
          "name": "stdout",
          "text": [
            "Features with gender: ['Height', 'Gender_Female', 'Gender_Male']\n",
            "Training set size: 8000 samples\n",
            "Testing set size: 2000 samples\n"
          ]
        }
      ]
    },
    {
      "cell_type": "markdown",
      "source": [
        "Training and validating again with 5-cross validation"
      ],
      "metadata": {
        "id": "G3Y7zgtU7n-r"
      },
      "id": "G3Y7zgtU7n-r"
    },
    {
      "cell_type": "code",
      "execution_count": null,
      "id": "c965e89e",
      "metadata": {
        "id": "c965e89e",
        "colab": {
          "base_uri": "https://localhost:8080/"
        },
        "outputId": "d01df47b-55db-441f-b341-f9601408ab02"
      },
      "outputs": [
        {
          "output_type": "stream",
          "name": "stdout",
          "text": [
            "Cross-validation R² scores: [0.90971166 0.8946123  0.90550074 0.8944187  0.90534474]\n",
            "Mean CV R² Score: 0.9019 (±0.0062)\n"
          ]
        }
      ],
      "source": [
        "# Initialize a new linear regression model\n",
        "model2 = LinearRegression()\n",
        "\n",
        "# Fit the model to the training data\n",
        "model2.fit(X2_train, y2_train)\n",
        "\n",
        "# Evaluate the new model's performance\n",
        "cv_scores_2 = cross_val_score(model2, X2_train, y2_train, cv=5, scoring='r2')\n",
        "print(f\"Cross-validation R² scores: {cv_scores_2}\")\n",
        "print(f\"Mean CV R² Score: {cv_scores_2.mean():.4f} (±{cv_scores_2.std():.4f})\")\n"
      ]
    },
    {
      "cell_type": "markdown",
      "source": [
        "Evaluate with test set"
      ],
      "metadata": {
        "id": "fs_aC-KYvRgv"
      },
      "id": "fs_aC-KYvRgv"
    },
    {
      "cell_type": "code",
      "source": [
        "# Evaluate on test set\n",
        "y_pred2 = model2.predict(X2_test)\n",
        "r2_2 = r2_score(y2_test, y_pred2)\n",
        "mse_2 = mean_squared_error(y2_test, y_pred2)"
      ],
      "metadata": {
        "id": "sk-L9MnmvRHw"
      },
      "id": "sk-L9MnmvRHw",
      "execution_count": null,
      "outputs": []
    },
    {
      "cell_type": "code",
      "source": [
        "print(f\"Model 2 Performance (Height + Gender):\")\n",
        "print(f\"CV R² Score: {cv_scores_2.mean():.4f}\")\n",
        "print(f\"Test R² Score: {r2_2:.4f}\")\n",
        "print(f\"Test MSE: {mse_2:.4f}\")\n",
        "print(f\"Test RMSE: {np.sqrt(mse_2):.4f}\")\n"
      ],
      "metadata": {
        "colab": {
          "base_uri": "https://localhost:8080/"
        },
        "id": "NH-jK5D8vXh-",
        "outputId": "b3b90d7a-e751-4418-cfdf-a4d2504dfdcc"
      },
      "id": "NH-jK5D8vXh-",
      "execution_count": null,
      "outputs": [
        {
          "output_type": "stream",
          "name": "stdout",
          "text": [
            "Model 2 Performance (Height + Gender):\n",
            "CV R² Score: 0.9019\n",
            "Test R² Score: 0.9047\n",
            "Test MSE: 20.9034\n",
            "Test RMSE: 4.5720\n"
          ]
        }
      ]
    },
    {
      "cell_type": "markdown",
      "id": "af38804f",
      "metadata": {
        "id": "af38804f"
      },
      "source": [
        "The R2 score has improved because the prediction is now empowered by one additional useful feature, i.e. gender."
      ]
    },
    {
      "cell_type": "markdown",
      "metadata": {
        "id": "779ec99d"
      },
      "source": [
        "## Classification of Fish Species"
      ],
      "id": "779ec99d"
    },
    {
      "cell_type": "markdown",
      "source": [
        "Load modules and packages"
      ],
      "metadata": {
        "id": "3vA_0mKkO3g3"
      },
      "id": "3vA_0mKkO3g3"
    },
    {
      "cell_type": "code",
      "execution_count": null,
      "metadata": {
        "id": "dbeccaed"
      },
      "outputs": [],
      "source": [
        "import pandas as pd\n",
        "\n",
        "# Other modules needed are:\n",
        "# import train_test_split as split\n",
        "# import KNeighborsClassifier as KNC\n",
        "# import DecisionTreeClassifier as DTC"
      ],
      "id": "dbeccaed"
    },
    {
      "cell_type": "markdown",
      "source": [
        "Load the dataset"
      ],
      "metadata": {
        "id": "McnX8QiC9nun"
      },
      "id": "McnX8QiC9nun"
    },
    {
      "cell_type": "code",
      "source": [
        "df = pd.read_csv('https://raw.githubusercontent.com/wooihaw/datasets/main/fish.csv')"
      ],
      "metadata": {
        "id": "LW3HDAvS9ijY"
      },
      "execution_count": null,
      "outputs": [],
      "id": "LW3HDAvS9ijY"
    },
    {
      "cell_type": "markdown",
      "source": [
        "Check the first 5 samples"
      ],
      "metadata": {
        "id": "EiQS3gvFQFLE"
      },
      "id": "EiQS3gvFQFLE"
    },
    {
      "cell_type": "code",
      "source": [],
      "metadata": {
        "id": "0wKrl8m3-AiB"
      },
      "execution_count": null,
      "outputs": [],
      "id": "0wKrl8m3-AiB"
    },
    {
      "cell_type": "markdown",
      "source": [
        "Sample 10 lines of data"
      ],
      "metadata": {
        "id": "yycUv7O4-FPX"
      },
      "id": "yycUv7O4-FPX"
    },
    {
      "cell_type": "code",
      "source": [],
      "metadata": {
        "id": "5Bu-jylD-AWg"
      },
      "execution_count": null,
      "outputs": [],
      "id": "5Bu-jylD-AWg"
    },
    {
      "cell_type": "markdown",
      "source": [
        "Describe statistics of the dataset"
      ],
      "metadata": {
        "id": "Um7nH8mA-Mvb"
      },
      "id": "Um7nH8mA-Mvb"
    },
    {
      "cell_type": "code",
      "execution_count": null,
      "metadata": {
        "id": "765090b3"
      },
      "outputs": [],
      "source": [],
      "id": "765090b3"
    },
    {
      "cell_type": "markdown",
      "source": [
        "What is the dimension of the dataset?"
      ],
      "metadata": {
        "id": "TP6IYGf994fV"
      },
      "id": "TP6IYGf994fV"
    },
    {
      "cell_type": "code",
      "source": [],
      "metadata": {
        "id": "ej9pRyHe95S1"
      },
      "execution_count": null,
      "outputs": [],
      "id": "ej9pRyHe95S1"
    },
    {
      "cell_type": "markdown",
      "source": [
        "`Species` is the **Target**, other columns are the **Features**."
      ],
      "metadata": {
        "id": "sBDpLuBYWmw0"
      },
      "id": "sBDpLuBYWmw0"
    },
    {
      "cell_type": "code",
      "source": [
        "y = df[\"Species\"]\n",
        "# X = ?"
      ],
      "metadata": {
        "id": "tsVwQoxaWfwE"
      },
      "execution_count": null,
      "outputs": [],
      "id": "tsVwQoxaWfwE"
    },
    {
      "cell_type": "markdown",
      "source": [
        "How many classes (Species) are there?"
      ],
      "metadata": {
        "id": "vyRRhpIdXUUO"
      },
      "id": "vyRRhpIdXUUO"
    },
    {
      "cell_type": "code",
      "source": [
        "# df.groupby"
      ],
      "metadata": {
        "id": "DzSYfSQaXX88"
      },
      "execution_count": null,
      "outputs": [],
      "id": "DzSYfSQaXX88"
    },
    {
      "cell_type": "markdown",
      "source": [
        "Split the dataset into training and testing sets"
      ],
      "metadata": {
        "id": "11nANF3w-RYZ"
      },
      "id": "11nANF3w-RYZ"
    },
    {
      "cell_type": "code",
      "source": [
        "# X_train, X_test, y_train, y_test = split( ? )"
      ],
      "metadata": {
        "id": "LSGUHY_V-S4F"
      },
      "execution_count": null,
      "outputs": [],
      "id": "LSGUHY_V-S4F"
    },
    {
      "cell_type": "code",
      "execution_count": null,
      "metadata": {
        "id": "52270673"
      },
      "outputs": [],
      "source": [
        "X_train.shape"
      ],
      "id": "52270673"
    },
    {
      "cell_type": "code",
      "source": [
        "X_test.shape"
      ],
      "metadata": {
        "id": "DBbH66vvZXlD"
      },
      "execution_count": null,
      "outputs": [],
      "id": "DBbH66vvZXlD"
    },
    {
      "cell_type": "markdown",
      "source": [
        "How many features are there in the dataset?"
      ],
      "metadata": {
        "id": "8vrBOdu_QsLk"
      },
      "id": "8vrBOdu_QsLk"
    },
    {
      "cell_type": "code",
      "execution_count": null,
      "metadata": {
        "id": "a960a91c"
      },
      "outputs": [],
      "source": [],
      "id": "a960a91c"
    },
    {
      "cell_type": "markdown",
      "source": [
        "Start from the k-Nearest Neighbors (kNN) model"
      ],
      "metadata": {
        "id": "cymXP2GmQ4GT"
      },
      "id": "cymXP2GmQ4GT"
    },
    {
      "cell_type": "markdown",
      "source": [
        "Train and evaluate a kNN model with k=1"
      ],
      "metadata": {
        "id": "Rd4b6xTs_JKT"
      },
      "id": "Rd4b6xTs_JKT"
    },
    {
      "cell_type": "code",
      "source": [
        "# model = ?"
      ],
      "metadata": {
        "id": "X6_KeQ2BRDRz"
      },
      "id": "X6_KeQ2BRDRz",
      "execution_count": null,
      "outputs": []
    },
    {
      "cell_type": "code",
      "source": [
        "# model.fit()"
      ],
      "metadata": {
        "id": "PtDYQ7IgRGoi"
      },
      "id": "PtDYQ7IgRGoi",
      "execution_count": null,
      "outputs": []
    },
    {
      "cell_type": "code",
      "source": [
        "# print(f\"KNC accuracy: ? \")"
      ],
      "metadata": {
        "id": "jKa45jOL_Jdx"
      },
      "execution_count": null,
      "outputs": [],
      "id": "jKa45jOL_Jdx"
    },
    {
      "cell_type": "markdown",
      "source": [
        "Now try with a Decision Tree model for classification"
      ],
      "metadata": {
        "id": "YGjZKtYQRMVi"
      },
      "id": "YGjZKtYQRMVi"
    },
    {
      "cell_type": "markdown",
      "source": [
        "Train and evaluate a Decision Tree Classifier (DTC) with max_depth=1"
      ],
      "metadata": {
        "id": "SFCFB5pN_Qpy"
      },
      "id": "SFCFB5pN_Qpy"
    },
    {
      "cell_type": "code",
      "source": [
        "# model = DTC()"
      ],
      "metadata": {
        "id": "E71YnLLgRgnr"
      },
      "id": "E71YnLLgRgnr",
      "execution_count": null,
      "outputs": []
    },
    {
      "cell_type": "code",
      "source": [
        "# model.fit()"
      ],
      "metadata": {
        "id": "nKbQOMzpRkxs"
      },
      "id": "nKbQOMzpRkxs",
      "execution_count": null,
      "outputs": []
    },
    {
      "cell_type": "code",
      "source": [
        "# print(f\"DTC accuracy: ? }\")"
      ],
      "metadata": {
        "id": "WQHpvj5Y_RNI"
      },
      "execution_count": null,
      "outputs": [],
      "id": "WQHpvj5Y_RNI"
    },
    {
      "cell_type": "markdown",
      "source": [
        "Try with different k values (by using a FOR loop)"
      ],
      "metadata": {
        "id": "86StfRZmYIHd"
      },
      "id": "86StfRZmYIHd"
    },
    {
      "cell_type": "code",
      "source": [
        "k_values = range(2, 11)\n",
        "knn_scores = []"
      ],
      "metadata": {
        "id": "hJRJzlUER5pD"
      },
      "id": "hJRJzlUER5pD",
      "execution_count": null,
      "outputs": []
    },
    {
      "cell_type": "code",
      "execution_count": null,
      "metadata": {
        "id": "696fa7f4"
      },
      "outputs": [],
      "source": [
        "for k in k_values:\n"
      ],
      "id": "696fa7f4"
    },
    {
      "cell_type": "markdown",
      "source": [
        "Print out the results"
      ],
      "metadata": {
        "id": "CAUAuLcISAmz"
      },
      "id": "CAUAuLcISAmz"
    },
    {
      "cell_type": "code",
      "source": [
        "print(\"KNC Performance:\")\n",
        "for k, score in knn_scores:\n"
      ],
      "metadata": {
        "id": "VIYn8zFoSCXD"
      },
      "id": "VIYn8zFoSCXD",
      "execution_count": null,
      "outputs": []
    },
    {
      "cell_type": "markdown",
      "source": [
        "Which k value gives the best performance?"
      ],
      "metadata": {
        "id": "xKWKHhnVayZE"
      },
      "id": "xKWKHhnVayZE"
    },
    {
      "cell_type": "markdown",
      "source": [
        "Now try with different max_depth values for the DTC"
      ],
      "metadata": {
        "id": "Y236C5MjSYoD"
      },
      "id": "Y236C5MjSYoD"
    },
    {
      "cell_type": "code",
      "source": [
        "max_depth_values = list(range(2, 11))\n",
        "dtc_scores = []"
      ],
      "metadata": {
        "id": "ndzU078TSeZy"
      },
      "id": "ndzU078TSeZy",
      "execution_count": null,
      "outputs": []
    },
    {
      "cell_type": "code",
      "execution_count": null,
      "metadata": {
        "id": "a99d8efb"
      },
      "outputs": [],
      "source": [
        "for max_depth in max_depth_values:\n"
      ],
      "id": "a99d8efb"
    },
    {
      "cell_type": "markdown",
      "source": [
        "Print out the results"
      ],
      "metadata": {
        "id": "sCcnPKYvSpS0"
      },
      "id": "sCcnPKYvSpS0"
    },
    {
      "cell_type": "code",
      "source": [
        "print(\"Decision Tree Performance:\")\n",
        "for max_depth, score in dtc_scores:\n"
      ],
      "metadata": {
        "id": "kMaEeZyQSjz8"
      },
      "id": "kMaEeZyQSjz8",
      "execution_count": null,
      "outputs": []
    },
    {
      "cell_type": "markdown",
      "source": [
        "What is the maximum depth that gives the best performance?"
      ],
      "metadata": {
        "id": "RpNTSzSBa5f8"
      },
      "id": "RpNTSzSBa5f8"
    },
    {
      "cell_type": "markdown",
      "metadata": {
        "id": "eb557506"
      },
      "source": [
        "Which classifier performs better?"
      ],
      "id": "eb557506"
    }
  ],
  "metadata": {
    "kernelspec": {
      "display_name": "Python 3 (ipykernel)",
      "language": "python",
      "name": "python3"
    },
    "language_info": {
      "codemirror_mode": {
        "name": "ipython",
        "version": 3
      },
      "file_extension": ".py",
      "mimetype": "text/x-python",
      "name": "python",
      "nbconvert_exporter": "python",
      "pygments_lexer": "ipython3",
      "version": "3.9.13"
    },
    "colab": {
      "provenance": [],
      "include_colab_link": true
    }
  },
  "nbformat": 4,
  "nbformat_minor": 5
}